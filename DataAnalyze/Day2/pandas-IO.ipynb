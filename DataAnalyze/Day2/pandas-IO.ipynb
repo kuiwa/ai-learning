{
 "cells": [
  {
   "cell_type": "code",
   "execution_count": 1,
   "id": "165f149a",
   "metadata": {},
   "outputs": [],
   "source": [
    "import pandas as pd\n",
    "import numpy as np"
   ]
  },
  {
   "cell_type": "code",
   "execution_count": 2,
   "id": "071865b6",
   "metadata": {},
   "outputs": [
    {
     "data": {
      "text/plain": [
       "(pandas.core.frame.DataFrame,\n",
       " Index(['gender', 'race/ethnicity', 'parental level of education', 'lunch',\n",
       "        'test preparation course', 'math score', 'reading score',\n",
       "        'writing score'],\n",
       "       dtype='object'))"
      ]
     },
     "execution_count": 2,
     "metadata": {},
     "output_type": "execute_result"
    }
   ],
   "source": [
    "exam_csv = pd.read_csv(\"exams.csv\")\n",
    "type(exam_csv),exam_csv.columns"
   ]
  },
  {
   "cell_type": "code",
   "execution_count": 3,
   "id": "c73aae41",
   "metadata": {},
   "outputs": [
    {
     "name": "stdout",
     "output_type": "stream",
     "text": [
      "<class 'pandas.core.frame.DataFrame'>\n",
      "RangeIndex: 1000 entries, 0 to 999\n",
      "Data columns (total 8 columns):\n",
      " #   Column                       Non-Null Count  Dtype \n",
      "---  ------                       --------------  ----- \n",
      " 0   gender                       1000 non-null   object\n",
      " 1   race/ethnicity               1000 non-null   object\n",
      " 2   parental level of education  1000 non-null   object\n",
      " 3   lunch                        1000 non-null   object\n",
      " 4   test preparation course      1000 non-null   object\n",
      " 5   math score                   1000 non-null   int64 \n",
      " 6   reading score                1000 non-null   int64 \n",
      " 7   writing score                1000 non-null   int64 \n",
      "dtypes: int64(3), object(5)\n",
      "memory usage: 62.6+ KB\n"
     ]
    }
   ],
   "source": [
    "exam_csv.info()"
   ]
  },
  {
   "cell_type": "code",
   "execution_count": 5,
   "id": "a3bdd9c1",
   "metadata": {},
   "outputs": [
    {
     "data": {
      "text/plain": [
       "pandas.core.series.Series"
      ]
     },
     "execution_count": 5,
     "metadata": {},
     "output_type": "execute_result"
    }
   ],
   "source": [
    "type(exam_csv.gender)"
   ]
  },
  {
   "cell_type": "code",
   "execution_count": 7,
   "id": "3b7bef96",
   "metadata": {},
   "outputs": [
    {
     "data": {
      "text/plain": [
       "990      male\n",
       "991    female\n",
       "992      male\n",
       "993    female\n",
       "994      male\n",
       "995      male\n",
       "996      male\n",
       "997    female\n",
       "998    female\n",
       "999      male\n",
       "Name: gender, dtype: object"
      ]
     },
     "execution_count": 7,
     "metadata": {},
     "output_type": "execute_result"
    }
   ],
   "source": [
    "exam_csv[\"gender\"].tail(10)"
   ]
  },
  {
   "cell_type": "code",
   "execution_count": 8,
   "id": "4d7b55ef",
   "metadata": {},
   "outputs": [],
   "source": [
    "exam_csv[\"gender\"].to_csv(\"exam_csv_gender.csv\",index=False)"
   ]
  },
  {
   "cell_type": "code",
   "execution_count": 11,
   "id": "6aae238e",
   "metadata": {},
   "outputs": [
    {
     "data": {
      "text/plain": [
       "gender\n",
       "male      517\n",
       "female    483\n",
       "Name: count, dtype: int64"
      ]
     },
     "execution_count": 11,
     "metadata": {},
     "output_type": "execute_result"
    }
   ],
   "source": [
    "exam_csv[\"gender\"].value_counts()"
   ]
  },
  {
   "cell_type": "code",
   "execution_count": 12,
   "id": "84e10a9a",
   "metadata": {},
   "outputs": [
    {
     "name": "stdout",
     "output_type": "stream",
     "text": [
      "<bound method DataFrame.info of     gender race/ethnicity parental level of education         lunch  \\\n",
      "0     male        group A                 high school      standard   \n",
      "1   female        group D            some high school  free/reduced   \n",
      "2     male        group E                some college  free/reduced   \n",
      "3     male        group B                 high school      standard   \n",
      "4     male        group E          associate's degree      standard   \n",
      "..     ...            ...                         ...           ...   \n",
      "95  female        group C                 high school      standard   \n",
      "96  female        group E          associate's degree      standard   \n",
      "97    male        group B                 high school  free/reduced   \n",
      "98    male        group A                some college      standard   \n",
      "99    male        group B          associate's degree      standard   \n",
      "\n",
      "   test preparation course  math score  reading score  writing score  \n",
      "0                completed          67             67             63  \n",
      "1                     none          40             59             55  \n",
      "2                     none          59             60             50  \n",
      "3                     none          77             78             68  \n",
      "4                completed          78             73             68  \n",
      "..                     ...         ...            ...            ...  \n",
      "95               completed          58             63             67  \n",
      "96               completed          95            100            100  \n",
      "97                    none          45             52             49  \n",
      "98                    none          63             50             49  \n",
      "99                    none          60             54             53  \n",
      "\n",
      "[100 rows x 8 columns]>\n",
      "<bound method DataFrame.info of      gender race/ethnicity parental level of education         lunch  \\\n",
      "100    male        group C                some college  free/reduced   \n",
      "101    male        group C                some college      standard   \n",
      "102    male        group E                 high school      standard   \n",
      "103    male        group D                 high school      standard   \n",
      "104  female        group B                some college      standard   \n",
      "..      ...            ...                         ...           ...   \n",
      "195  female        group D            some high school  free/reduced   \n",
      "196    male        group D           bachelor's degree      standard   \n",
      "197    male        group A             master's degree  free/reduced   \n",
      "198  female        group B          associate's degree      standard   \n",
      "199    male        group D                 high school      standard   \n",
      "\n",
      "    test preparation course  math score  reading score  writing score  \n",
      "100               completed          54             61             62  \n",
      "101               completed          75             78             79  \n",
      "102                    none          79             78             77  \n",
      "103                    none          66             67             67  \n",
      "104                    none          47             58             58  \n",
      "..                      ...         ...            ...            ...  \n",
      "195                    none          39             49             48  \n",
      "196                    none          50             46             48  \n",
      "197                    none          53             57             51  \n",
      "198               completed          54             62             70  \n",
      "199                    none          74             63             65  \n",
      "\n",
      "[100 rows x 8 columns]>\n",
      "<bound method DataFrame.info of      gender race/ethnicity parental level of education         lunch  \\\n",
      "200  female        group D          associate's degree      standard   \n",
      "201    male        group E          associate's degree      standard   \n",
      "202    male        group C                some college      standard   \n",
      "203  female        group B            some high school      standard   \n",
      "204  female        group D          associate's degree  free/reduced   \n",
      "..      ...            ...                         ...           ...   \n",
      "295  female        group C            some high school      standard   \n",
      "296    male        group D            some high school  free/reduced   \n",
      "297  female        group E           bachelor's degree  free/reduced   \n",
      "298    male        group B                 high school      standard   \n",
      "299    male        group D                 high school      standard   \n",
      "\n",
      "    test preparation course  math score  reading score  writing score  \n",
      "200               completed          50             63             65  \n",
      "201                    none          55             54             47  \n",
      "202                    none          77             64             70  \n",
      "203               completed          49             64             67  \n",
      "204                    none          66             83             82  \n",
      "..                      ...         ...            ...            ...  \n",
      "295                    none          77             83             86  \n",
      "296                    none          50             47             46  \n",
      "297                    none          56             58             52  \n",
      "298                    none          69             58             50  \n",
      "299                    none          47             43             39  \n",
      "\n",
      "[100 rows x 8 columns]>\n",
      "<bound method DataFrame.info of      gender race/ethnicity parental level of education         lunch  \\\n",
      "300    male        group B                some college  free/reduced   \n",
      "301    male        group A            some high school  free/reduced   \n",
      "302    male        group C                 high school  free/reduced   \n",
      "303    male        group C                some college      standard   \n",
      "304    male        group D           bachelor's degree      standard   \n",
      "..      ...            ...                         ...           ...   \n",
      "395  female        group B            some high school      standard   \n",
      "396  female        group D          associate's degree      standard   \n",
      "397  female        group B          associate's degree      standard   \n",
      "398    male        group B           bachelor's degree      standard   \n",
      "399  female        group A                some college  free/reduced   \n",
      "\n",
      "    test preparation course  math score  reading score  writing score  \n",
      "300                    none          43             28             24  \n",
      "301                    none          48             39             40  \n",
      "302                    none          55             62             49  \n",
      "303                    none          73             68             66  \n",
      "304                    none          71             63             66  \n",
      "..                      ...         ...            ...            ...  \n",
      "395                    none          64             78             83  \n",
      "396                    none          85            100            100  \n",
      "397               completed          70             80             86  \n",
      "398               completed          90             73             83  \n",
      "399               completed          53             70             69  \n",
      "\n",
      "[100 rows x 8 columns]>\n",
      "<bound method DataFrame.info of      gender race/ethnicity parental level of education         lunch  \\\n",
      "400    male        group C                some college      standard   \n",
      "401    male        group A          associate's degree      standard   \n",
      "402  female        group C            some high school      standard   \n",
      "403  female        group B                some college      standard   \n",
      "404  female        group A                 high school      standard   \n",
      "..      ...            ...                         ...           ...   \n",
      "495    male        group E                some college      standard   \n",
      "496  female        group B            some high school  free/reduced   \n",
      "497    male        group E                some college  free/reduced   \n",
      "498    male        group B           bachelor's degree      standard   \n",
      "499    male        group B          associate's degree      standard   \n",
      "\n",
      "    test preparation course  math score  reading score  writing score  \n",
      "400               completed          74             73             75  \n",
      "401               completed          61             71             67  \n",
      "402               completed          55             74             73  \n",
      "403               completed          65             63             66  \n",
      "404                    none          77             77             79  \n",
      "..                      ...         ...            ...            ...  \n",
      "495                    none          78             65             60  \n",
      "496                    none          26             34             28  \n",
      "497                    none          71             64             66  \n",
      "498               completed          86             92             93  \n",
      "499               completed          89             84             81  \n",
      "\n",
      "[100 rows x 8 columns]>\n",
      "<bound method DataFrame.info of      gender race/ethnicity parental level of education         lunch  \\\n",
      "500  female        group B                 high school  free/reduced   \n",
      "501  female        group C          associate's degree      standard   \n",
      "502    male        group D          associate's degree      standard   \n",
      "503    male        group D                 high school      standard   \n",
      "504  female        group C                 high school  free/reduced   \n",
      "..      ...            ...                         ...           ...   \n",
      "595  female        group B                some college      standard   \n",
      "596  female        group B                 high school  free/reduced   \n",
      "597  female        group A                some college      standard   \n",
      "598    male        group A            some high school  free/reduced   \n",
      "599  female        group C            some high school      standard   \n",
      "\n",
      "    test preparation course  math score  reading score  writing score  \n",
      "500                    none          53             64             63  \n",
      "501                    none          87             87             92  \n",
      "502                    none          71             57             59  \n",
      "503                    none          77             80             72  \n",
      "504               completed          43             48             53  \n",
      "..                      ...         ...            ...            ...  \n",
      "595                    none          46             54             54  \n",
      "596               completed          75             85             90  \n",
      "597                    none          46             51             54  \n",
      "598                    none          42             40             40  \n",
      "599               completed          77             86             90  \n",
      "\n",
      "[100 rows x 8 columns]>\n",
      "<bound method DataFrame.info of      gender race/ethnicity parental level of education         lunch  \\\n",
      "600  female        group C                some college  free/reduced   \n",
      "601  female        group D                 high school      standard   \n",
      "602    male        group C                 high school      standard   \n",
      "603  female        group C          associate's degree      standard   \n",
      "604  female        group D           bachelor's degree      standard   \n",
      "..      ...            ...                         ...           ...   \n",
      "695    male        group B            some high school      standard   \n",
      "696  female        group C            some high school      standard   \n",
      "697    male        group E          associate's degree      standard   \n",
      "698    male        group C                some college  free/reduced   \n",
      "699  female        group C                some college  free/reduced   \n",
      "\n",
      "    test preparation course  math score  reading score  writing score  \n",
      "600                    none          40             63             56  \n",
      "601                    none          69             71             76  \n",
      "602                    none          43             50             45  \n",
      "603               completed          69             75             71  \n",
      "604               completed          89             93            100  \n",
      "..                      ...         ...            ...            ...  \n",
      "695               completed          68             63             62  \n",
      "696               completed          52             64             63  \n",
      "697                    none          90             76             73  \n",
      "698               completed          71             82             75  \n",
      "699               completed          58             69             74  \n",
      "\n",
      "[100 rows x 8 columns]>\n",
      "<bound method DataFrame.info of      gender race/ethnicity parental level of education         lunch  \\\n",
      "700    male        group C            some high school  free/reduced   \n",
      "701    male        group D            some high school      standard   \n",
      "702    male        group D                 high school      standard   \n",
      "703    male        group B            some high school      standard   \n",
      "704  female        group A                 high school      standard   \n",
      "..      ...            ...                         ...           ...   \n",
      "795  female        group A             master's degree  free/reduced   \n",
      "796    male        group D          associate's degree  free/reduced   \n",
      "797    male        group B          associate's degree      standard   \n",
      "798    male        group C                some college      standard   \n",
      "799    male        group C                 high school  free/reduced   \n",
      "\n",
      "    test preparation course  math score  reading score  writing score  \n",
      "700                    none          41             39             34  \n",
      "701               completed          43             37             43  \n",
      "702                    none          85             70             71  \n",
      "703                    none          71             72             69  \n",
      "704                    none          72             70             72  \n",
      "..                      ...         ...            ...            ...  \n",
      "795                    none          42             50             44  \n",
      "796               completed          74             90             89  \n",
      "797               completed          62             61             61  \n",
      "798                    none          56             55             50  \n",
      "799                    none          64             52             54  \n",
      "\n",
      "[100 rows x 8 columns]>\n",
      "<bound method DataFrame.info of      gender race/ethnicity parental level of education         lunch  \\\n",
      "800    male        group D                 high school      standard   \n",
      "801  female        group C            some high school      standard   \n",
      "802  female        group B                some college      standard   \n",
      "803    male        group A                some college      standard   \n",
      "804    male        group C                 high school      standard   \n",
      "..      ...            ...                         ...           ...   \n",
      "895  female        group B             master's degree      standard   \n",
      "896    male        group C                 high school  free/reduced   \n",
      "897  female        group C            some high school  free/reduced   \n",
      "898  female        group E                some college      standard   \n",
      "899    male        group C            some high school  free/reduced   \n",
      "\n",
      "    test preparation course  math score  reading score  writing score  \n",
      "800               completed          79             84             80  \n",
      "801                    none          44             65             63  \n",
      "802               completed          69             94             87  \n",
      "803                    none          53             48             48  \n",
      "804                    none          74             69             61  \n",
      "..                      ...         ...            ...            ...  \n",
      "895                    none          71             88             85  \n",
      "896                    none          71             63             64  \n",
      "897                    none          51             67             69  \n",
      "898               completed          75             76             85  \n",
      "899                    none          45             31             27  \n",
      "\n",
      "[100 rows x 8 columns]>\n",
      "<bound method DataFrame.info of      gender race/ethnicity parental level of education         lunch  \\\n",
      "900    male        group B            some high school      standard   \n",
      "901  female        group E                 high school  free/reduced   \n",
      "902    male        group A                some college      standard   \n",
      "903    male        group D                 high school  free/reduced   \n",
      "904    male        group E           bachelor's degree  free/reduced   \n",
      "..      ...            ...                         ...           ...   \n",
      "995    male        group C                 high school      standard   \n",
      "996    male        group D          associate's degree  free/reduced   \n",
      "997  female        group C            some high school  free/reduced   \n",
      "998  female        group C                some college      standard   \n",
      "999    male        group A                some college      standard   \n",
      "\n",
      "    test preparation course  math score  reading score  writing score  \n",
      "900                    none          59             54             48  \n",
      "901                    none          64             69             68  \n",
      "902               completed          78             69             73  \n",
      "903                    none          59             61             58  \n",
      "904                    none          80             70             71  \n",
      "..                      ...         ...            ...            ...  \n",
      "995                    none          73             70             65  \n",
      "996               completed          85             91             92  \n",
      "997                    none          32             35             41  \n",
      "998                    none          73             74             82  \n",
      "999               completed          65             60             62  \n",
      "\n",
      "[100 rows x 8 columns]>\n"
     ]
    }
   ],
   "source": [
    "with pd.read_csv(\"exams.csv\",chunksize=100) as reader:\n",
    "    #reader\n",
    "    for chunk in reader:\n",
    "        print(chunk.info)"
   ]
  },
  {
   "cell_type": "code",
   "execution_count": 5,
   "id": "dcc19311",
   "metadata": {},
   "outputs": [
    {
     "data": {
      "text/plain": [
       "Index(['gender', 'race/ethnicity', 'parental level of education', 'lunch',\n",
       "       'test preparation course', 'math score', 'reading score',\n",
       "       'writing score'],\n",
       "      dtype='object')"
      ]
     },
     "execution_count": 5,
     "metadata": {},
     "output_type": "execute_result"
    }
   ],
   "source": [
    "exam_csv.columns"
   ]
  },
  {
   "cell_type": "code",
   "execution_count": 6,
   "id": "290ba0c4",
   "metadata": {},
   "outputs": [
    {
     "data": {
      "text/plain": [
       "array([['male', 'group A', 'high school', 'standard', 'completed', 67,\n",
       "        67, 63],\n",
       "       ['female', 'group D', 'some high school', 'free/reduced', 'none',\n",
       "        40, 59, 55],\n",
       "       ['male', 'group E', 'some college', 'free/reduced', 'none', 59,\n",
       "        60, 50],\n",
       "       ['male', 'group B', 'high school', 'standard', 'none', 77, 78, 68],\n",
       "       ['male', 'group E', \"associate's degree\", 'standard', 'completed',\n",
       "        78, 73, 68]], dtype=object)"
      ]
     },
     "execution_count": 6,
     "metadata": {},
     "output_type": "execute_result"
    }
   ],
   "source": [
    "exam_csv.head().to_numpy()"
   ]
  },
  {
   "cell_type": "code",
   "execution_count": 9,
   "id": "6ce81ecd",
   "metadata": {},
   "outputs": [
    {
     "data": {
      "text/plain": [
       "(1000, 8)"
      ]
     },
     "execution_count": 9,
     "metadata": {},
     "output_type": "execute_result"
    }
   ],
   "source": [
    "exam_csv.shape"
   ]
  },
  {
   "cell_type": "code",
   "execution_count": 10,
   "id": "436355bc",
   "metadata": {},
   "outputs": [
    {
     "data": {
      "text/plain": [
       "RangeIndex(start=0, stop=1000, step=1)"
      ]
     },
     "execution_count": 10,
     "metadata": {},
     "output_type": "execute_result"
    }
   ],
   "source": [
    "exam_csv.index"
   ]
  },
  {
   "cell_type": "code",
   "execution_count": 11,
   "id": "20412f56",
   "metadata": {},
   "outputs": [
    {
     "data": {
      "text/plain": [
       "Index(['gender', 'race/ethnicity', 'parental level of education', 'lunch',\n",
       "       'test preparation course', 'math score', 'reading score',\n",
       "       'writing score'],\n",
       "      dtype='object')"
      ]
     },
     "execution_count": 11,
     "metadata": {},
     "output_type": "execute_result"
    }
   ],
   "source": [
    "exam_csv.columns"
   ]
  },
  {
   "cell_type": "code",
   "execution_count": 12,
   "id": "b26fe544",
   "metadata": {},
   "outputs": [
    {
     "data": {
      "text/plain": [
       "RangeIndex(start=0, stop=1000, step=1)"
      ]
     },
     "execution_count": 12,
     "metadata": {},
     "output_type": "execute_result"
    }
   ],
   "source": [
    "exam_csv.gender.index"
   ]
  },
  {
   "cell_type": "code",
   "execution_count": 4,
   "id": "38ac749c",
   "metadata": {},
   "outputs": [
    {
     "name": "stdout",
     "output_type": "stream",
     "text": [
      "<class 'pandas.core.frame.DataFrame'>\n",
      "RangeIndex: 1000 entries, 0 to 999\n",
      "Data columns (total 8 columns):\n",
      " #   Column                       Non-Null Count  Dtype \n",
      "---  ------                       --------------  ----- \n",
      " 0   gender                       1000 non-null   object\n",
      " 1   race/ethnicity               1000 non-null   object\n",
      " 2   parental level of education  1000 non-null   object\n",
      " 3   lunch                        1000 non-null   object\n",
      " 4   test preparation course      1000 non-null   object\n",
      " 5   math score                   1000 non-null   int64 \n",
      " 6   reading score                1000 non-null   int64 \n",
      " 7   writing score                1000 non-null   int64 \n",
      "dtypes: int64(3), object(5)\n",
      "memory usage: 62.6+ KB\n"
     ]
    }
   ],
   "source": [
    "exam_csv.info()"
   ]
  },
  {
   "cell_type": "code",
   "execution_count": 16,
   "id": "a6d43ba5",
   "metadata": {},
   "outputs": [
    {
     "data": {
      "text/plain": [
       "<PandasArray>\n",
       "[  'male', 'female',   'male',   'male',   'male', 'female', 'female',\n",
       "   'male',   'male',   'male',\n",
       " ...\n",
       "   'male', 'female',   'male', 'female',   'male',   'male',   'male',\n",
       " 'female', 'female',   'male']\n",
       "Length: 1000, dtype: object"
      ]
     },
     "execution_count": 16,
     "metadata": {},
     "output_type": "execute_result"
    }
   ],
   "source": [
    "exam_csv.gender.array"
   ]
  },
  {
   "cell_type": "code",
   "execution_count": null,
   "id": "e8993a3d",
   "metadata": {},
   "outputs": [],
   "source": []
  }
 ],
 "metadata": {
  "kernelspec": {
   "display_name": "Python 3",
   "language": "python",
   "name": "python3"
  },
  "language_info": {
   "codemirror_mode": {
    "name": "ipython",
    "version": 3
   },
   "file_extension": ".py",
   "mimetype": "text/x-python",
   "name": "python",
   "nbconvert_exporter": "python",
   "pygments_lexer": "ipython3",
   "version": "3.10.7"
  }
 },
 "nbformat": 4,
 "nbformat_minor": 5
}
