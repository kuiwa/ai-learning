{
 "cells": [
  {
   "cell_type": "code",
   "execution_count": 2,
   "id": "2b8d3a6c",
   "metadata": {},
   "outputs": [],
   "source": [
    "import numpy as np"
   ]
  },
  {
   "cell_type": "markdown",
   "id": "9309a9d7",
   "metadata": {},
   "source": [
    "# CREATE NUMPY ARRAY"
   ]
  },
  {
   "cell_type": "code",
   "execution_count": 101,
   "id": "c468179f",
   "metadata": {},
   "outputs": [
    {
     "data": {
      "text/plain": [
       "(array([1, 2, 3]), array([1.1, 2.2, 3.3]))"
      ]
     },
     "execution_count": 101,
     "metadata": {},
     "output_type": "execute_result"
    }
   ],
   "source": [
    "list_integer = [1,2,3]\n",
    "\n",
    "tuple_float = (1.1,2.2,3.3)\n",
    "\n",
    "array_list = np.array(list_integer)\n",
    "\n",
    "array_tuple = np.array(tuple_float)\n",
    "\n",
    "array_list,array_tuple\n"
   ]
  },
  {
   "cell_type": "code",
   "execution_count": 102,
   "id": "90987a3e",
   "metadata": {},
   "outputs": [
    {
     "data": {
      "text/plain": [
       "(numpy.ndarray, numpy.ndarray, dtype('int32'), dtype('float64'), (3,), (3,))"
      ]
     },
     "execution_count": 102,
     "metadata": {},
     "output_type": "execute_result"
    }
   ],
   "source": [
    "type(array_list),type(array_tuple),array_list.dtype,array_tuple.dtype,array_list.shape,array_tuple.shape"
   ]
  },
  {
   "cell_type": "code",
   "execution_count": 13,
   "id": "84242a56",
   "metadata": {},
   "outputs": [
    {
     "data": {
      "text/plain": [
       "(array([ 2,  4,  6,  8, 10, 12, 14, 16, 18, 20]), dtype('int32'))"
      ]
     },
     "execution_count": 13,
     "metadata": {},
     "output_type": "execute_result"
    }
   ],
   "source": [
    "np.arange(2,22,2),np.arange(2,22,2).dtype"
   ]
  },
  {
   "cell_type": "code",
   "execution_count": 11,
   "id": "df0ebf64",
   "metadata": {},
   "outputs": [
    {
     "data": {
      "text/plain": [
       "(array([[1. , 2. , 3. ],\n",
       "        [1.1, 2.2, 3.3]]),\n",
       " (2, 3))"
      ]
     },
     "execution_count": 11,
     "metadata": {},
     "output_type": "execute_result"
    }
   ],
   "source": [
    "np.array([list_integer,tuple_float]),np.array([list_integer,tuple_float]).shape"
   ]
  },
  {
   "cell_type": "code",
   "execution_count": 12,
   "id": "306a827c",
   "metadata": {},
   "outputs": [
    {
     "data": {
      "text/plain": [
       "dtype('float64')"
      ]
     },
     "execution_count": 12,
     "metadata": {},
     "output_type": "execute_result"
    }
   ],
   "source": [
    "np.array([list_integer,tuple_float]).dtype"
   ]
  },
  {
   "cell_type": "code",
   "execution_count": 18,
   "id": "e9938b79",
   "metadata": {},
   "outputs": [],
   "source": [
    "array_list = np.array(list_integer,dtype='float64')"
   ]
  },
  {
   "cell_type": "code",
   "execution_count": 20,
   "id": "6c6707c6",
   "metadata": {},
   "outputs": [
    {
     "data": {
      "text/plain": [
       "(array([1., 2., 3.]), dtype('float64'))"
      ]
     },
     "execution_count": 20,
     "metadata": {},
     "output_type": "execute_result"
    }
   ],
   "source": [
    "array_list,array_list.dtype"
   ]
  },
  {
   "cell_type": "code",
   "execution_count": 3,
   "id": "ce2dee0c",
   "metadata": {},
   "outputs": [
    {
     "data": {
      "text/plain": [
       "array([[10., 10., 10., 10.],\n",
       "       [10., 10., 10., 10.],\n",
       "       [10., 10., 10., 10.],\n",
       "       [10., 10., 10., 10.]])"
      ]
     },
     "execution_count": 3,
     "metadata": {},
     "output_type": "execute_result"
    }
   ],
   "source": [
    "np.ones((4,4))*10"
   ]
  },
  {
   "cell_type": "markdown",
   "id": "a1a908a1",
   "metadata": {},
   "source": [
    "# BASIC OPERATIONS"
   ]
  },
  {
   "cell_type": "code",
   "execution_count": 9,
   "id": "50cf89cc",
   "metadata": {},
   "outputs": [],
   "source": [
    "a = np.arange(1,11)\n",
    "b = np.arange(-10,0)"
   ]
  },
  {
   "cell_type": "code",
   "execution_count": 11,
   "id": "ccbb94d1",
   "metadata": {},
   "outputs": [
    {
     "data": {
      "text/plain": [
       "array([-9, -7, -5, -3, -1,  1,  3,  5,  7,  9])"
      ]
     },
     "execution_count": 11,
     "metadata": {},
     "output_type": "execute_result"
    }
   ],
   "source": [
    "c = a+b\n",
    "c"
   ]
  },
  {
   "cell_type": "code",
   "execution_count": 12,
   "id": "b26d14ac",
   "metadata": {},
   "outputs": [
    {
     "data": {
      "text/plain": [
       "array([-10, -18, -24, -28, -30, -30, -28, -24, -18, -10])"
      ]
     },
     "execution_count": 12,
     "metadata": {},
     "output_type": "execute_result"
    }
   ],
   "source": [
    "d = a*b\n",
    "d"
   ]
  },
  {
   "cell_type": "code",
   "execution_count": 15,
   "id": "690107fc",
   "metadata": {},
   "outputs": [
    {
     "data": {
      "text/plain": [
       "array([False, False, False, False, False,  True,  True,  True,  True,\n",
       "        True])"
      ]
     },
     "execution_count": 15,
     "metadata": {},
     "output_type": "execute_result"
    }
   ],
   "source": [
    "(a > 5)"
   ]
  },
  {
   "cell_type": "code",
   "execution_count": 18,
   "id": "f7d2877a",
   "metadata": {},
   "outputs": [
    {
     "data": {
      "text/plain": [
       "5.5"
      ]
     },
     "execution_count": 18,
     "metadata": {},
     "output_type": "execute_result"
    }
   ],
   "source": [
    "a.sum()/len(a)"
   ]
  },
  {
   "cell_type": "code",
   "execution_count": 20,
   "id": "db8acc3d",
   "metadata": {},
   "outputs": [
    {
     "data": {
      "text/plain": [
       "(array([False, False, False, False, False, False,  True,  True,  True,\n",
       "         True]),\n",
       " 4)"
      ]
     },
     "execution_count": 20,
     "metadata": {},
     "output_type": "execute_result"
    }
   ],
   "source": [
    "b > -5, (b > -5).sum()"
   ]
  },
  {
   "cell_type": "code",
   "execution_count": 22,
   "id": "728cdbe8",
   "metadata": {},
   "outputs": [
    {
     "data": {
      "text/plain": [
       "array([False, False, False, False, False, False, False, False, False,\n",
       "       False])"
      ]
     },
     "execution_count": 22,
     "metadata": {},
     "output_type": "execute_result"
    }
   ],
   "source": [
    "c > a"
   ]
  },
  {
   "cell_type": "markdown",
   "id": "fa5cc777",
   "metadata": {},
   "source": [
    "# INDEXING AND DATA ACCESS"
   ]
  },
  {
   "cell_type": "code",
   "execution_count": 24,
   "id": "14f239ba",
   "metadata": {},
   "outputs": [],
   "source": [
    "a = np.arange(1,11)"
   ]
  },
  {
   "cell_type": "code",
   "execution_count": 30,
   "id": "7f37cce8",
   "metadata": {},
   "outputs": [
    {
     "data": {
      "text/plain": [
       "(3, [5, 6, 7, 8, 9, 10], 9)"
      ]
     },
     "execution_count": 30,
     "metadata": {},
     "output_type": "execute_result"
    }
   ],
   "source": [
    "a[2],a[4:].tolist(),a[-2]"
   ]
  },
  {
   "cell_type": "code",
   "execution_count": 33,
   "id": "d2ffaa8e",
   "metadata": {},
   "outputs": [
    {
     "data": {
      "text/plain": [
       "array([ 4,  8, 12, 16, 20])"
      ]
     },
     "execution_count": 33,
     "metadata": {},
     "output_type": "execute_result"
    }
   ],
   "source": [
    "a[1::2]*2"
   ]
  },
  {
   "cell_type": "code",
   "execution_count": 36,
   "id": "a2e68675",
   "metadata": {},
   "outputs": [],
   "source": [
    "b = np.arange(1,25)"
   ]
  },
  {
   "cell_type": "code",
   "execution_count": 37,
   "id": "b50846d9",
   "metadata": {},
   "outputs": [
    {
     "data": {
      "text/plain": [
       "array([[ 1,  2,  3,  4,  5,  6,  7,  8],\n",
       "       [ 9, 10, 11, 12, 13, 14, 15, 16],\n",
       "       [17, 18, 19, 20, 21, 22, 23, 24]])"
      ]
     },
     "execution_count": 37,
     "metadata": {},
     "output_type": "execute_result"
    }
   ],
   "source": [
    "b.reshape(3,8)"
   ]
  },
  {
   "cell_type": "code",
   "execution_count": 43,
   "id": "82776931",
   "metadata": {},
   "outputs": [
    {
     "data": {
      "text/plain": [
       "array([[ 1,  2,  3,  4,  5,  6],\n",
       "       [ 7,  8,  9, 10, 11, 12],\n",
       "       [13, 14, 15, 16, 17, 18],\n",
       "       [19, 20, 21, 22, 23, 24]])"
      ]
     },
     "execution_count": 43,
     "metadata": {},
     "output_type": "execute_result"
    }
   ],
   "source": [
    "c = b.reshape(4,6)\n",
    "c"
   ]
  },
  {
   "cell_type": "code",
   "execution_count": 44,
   "id": "d2493ef2",
   "metadata": {},
   "outputs": [
    {
     "data": {
      "text/plain": [
       "array([13, 14, 15, 16, 17, 18])"
      ]
     },
     "execution_count": 44,
     "metadata": {},
     "output_type": "execute_result"
    }
   ],
   "source": [
    "c[2,:]"
   ]
  },
  {
   "cell_type": "code",
   "execution_count": 45,
   "id": "f6a46bcf",
   "metadata": {},
   "outputs": [
    {
     "data": {
      "text/plain": [
       "array([ 3,  9, 15, 21])"
      ]
     },
     "execution_count": 45,
     "metadata": {},
     "output_type": "execute_result"
    }
   ],
   "source": [
    "c[:,2]"
   ]
  },
  {
   "cell_type": "code",
   "execution_count": 46,
   "id": "2f81bfa7",
   "metadata": {},
   "outputs": [],
   "source": [
    "names = np.array(['Bob', 'Will', 'Joe','Mary'])"
   ]
  },
  {
   "cell_type": "code",
   "execution_count": 47,
   "id": "96ad34ed",
   "metadata": {},
   "outputs": [
    {
     "data": {
      "text/plain": [
       "array(['Bob', 'Will', 'Joe', 'Mary'], dtype='<U4')"
      ]
     },
     "execution_count": 47,
     "metadata": {},
     "output_type": "execute_result"
    }
   ],
   "source": [
    "names"
   ]
  },
  {
   "cell_type": "code",
   "execution_count": 59,
   "id": "001fbe95",
   "metadata": {},
   "outputs": [
    {
     "data": {
      "text/plain": [
       "array([[ 1,  2,  3,  4,  5,  6],\n",
       "       [13, 14, 15, 16, 17, 18]])"
      ]
     },
     "execution_count": 59,
     "metadata": {},
     "output_type": "execute_result"
    }
   ],
   "source": [
    "c[(names == 'Bob') | (names == 'Joe')]"
   ]
  },
  {
   "cell_type": "markdown",
   "id": "61c23f98",
   "metadata": {},
   "source": [
    "# CHANGE ARRAY SHAPE"
   ]
  },
  {
   "cell_type": "code",
   "execution_count": 61,
   "id": "f03e8e7f",
   "metadata": {},
   "outputs": [
    {
     "name": "stdout",
     "output_type": "stream",
     "text": [
      "1\n",
      "2\n",
      "3\n",
      "4\n",
      "5\n",
      "6\n",
      "7\n",
      "8\n",
      "9\n",
      "10\n",
      "11\n",
      "12\n",
      "13\n",
      "14\n",
      "15\n",
      "16\n",
      "17\n",
      "18\n",
      "19\n",
      "20\n",
      "21\n",
      "22\n",
      "23\n",
      "24\n"
     ]
    }
   ],
   "source": [
    "for i in c.flat:\n",
    "    print(i)"
   ]
  },
  {
   "cell_type": "code",
   "execution_count": 64,
   "id": "5d87bcfd",
   "metadata": {},
   "outputs": [
    {
     "data": {
      "text/plain": [
       "array([ 1,  2,  3,  4,  5,  6,  7,  8,  9, 10, 11, 12, 13, 14, 15, 16, 17,\n",
       "       18, 19, 20, 21, 22, 23, 24])"
      ]
     },
     "execution_count": 64,
     "metadata": {},
     "output_type": "execute_result"
    }
   ],
   "source": [
    "c.ravel()\n",
    "# for i in c.ravel():\n",
    "#     print(i)"
   ]
  },
  {
   "cell_type": "code",
   "execution_count": 78,
   "id": "9043bdee",
   "metadata": {},
   "outputs": [
    {
     "data": {
      "text/plain": [
       "array([[ True,  True,  True,  True,  True,  True],\n",
       "       [ True,  True,  True,  True,  True,  True],\n",
       "       [ True,  True,  True,  True,  True,  True],\n",
       "       [ True,  True,  True,  True,  True,  True]])"
      ]
     },
     "execution_count": 78,
     "metadata": {},
     "output_type": "execute_result"
    }
   ],
   "source": [
    "d = c.reshape(6,4)\n",
    "d.transpose() == d.T"
   ]
  },
  {
   "cell_type": "code",
   "execution_count": 79,
   "id": "fb757ba5",
   "metadata": {},
   "outputs": [
    {
     "data": {
      "text/plain": [
       "array([[ 1,  2,  3,  4],\n",
       "       [ 5,  6,  7,  8],\n",
       "       [ 9, 10, 11, 12],\n",
       "       [13, 14, 15, 16],\n",
       "       [17, 18, 19, 20],\n",
       "       [21, 22, 23, 24]])"
      ]
     },
     "execution_count": 79,
     "metadata": {},
     "output_type": "execute_result"
    }
   ],
   "source": [
    "d"
   ]
  },
  {
   "cell_type": "code",
   "execution_count": 84,
   "id": "5bddc0e6",
   "metadata": {},
   "outputs": [
    {
     "data": {
      "text/plain": [
       "array([[ 1,  2,  3,  4,  5,  6,  1,  5,  9, 13, 17, 21],\n",
       "       [ 7,  8,  9, 10, 11, 12,  2,  6, 10, 14, 18, 22],\n",
       "       [13, 14, 15, 16, 17, 18,  3,  7, 11, 15, 19, 23],\n",
       "       [19, 20, 21, 22, 23, 24,  4,  8, 12, 16, 20, 24]])"
      ]
     },
     "execution_count": 84,
     "metadata": {},
     "output_type": "execute_result"
    }
   ],
   "source": [
    "np.hstack((c,d.T))"
   ]
  },
  {
   "cell_type": "code",
   "execution_count": 96,
   "id": "ec3f7f30",
   "metadata": {},
   "outputs": [
    {
     "data": {
      "text/plain": [
       "array([[ 1,  1,  2,  3,  4,  5,  5,  6,  9, 13, 17, 21],\n",
       "       [ 2,  6,  7,  8,  9, 10, 10, 11, 12, 14, 18, 22],\n",
       "       [ 3,  7, 11, 13, 14, 15, 15, 16, 17, 18, 19, 23],\n",
       "       [ 4,  8, 12, 16, 19, 20, 20, 21, 22, 23, 24, 24]])"
      ]
     },
     "execution_count": 96,
     "metadata": {},
     "output_type": "execute_result"
    }
   ],
   "source": [
    "np.sort(np.hstack((c,d.T)))"
   ]
  },
  {
   "cell_type": "code",
   "execution_count": 93,
   "id": "2772d179",
   "metadata": {},
   "outputs": [
    {
     "data": {
      "text/plain": [
       "array([[ 1,  2,  3,  4,  5,  6],\n",
       "       [ 7,  8,  9, 10, 11, 12],\n",
       "       [13, 14, 15, 16, 17, 18],\n",
       "       [19, 20, 21, 22, 23, 24],\n",
       "       [ 1,  5,  9, 13, 17, 21],\n",
       "       [ 2,  6, 10, 14, 18, 22],\n",
       "       [ 3,  7, 11, 15, 19, 23],\n",
       "       [ 4,  8, 12, 16, 20, 24]])"
      ]
     },
     "execution_count": 93,
     "metadata": {},
     "output_type": "execute_result"
    }
   ],
   "source": [
    "np.vstack((c,d.T))"
   ]
  },
  {
   "cell_type": "code",
   "execution_count": 95,
   "id": "73b83ffe",
   "metadata": {},
   "outputs": [
    {
     "data": {
      "text/plain": [
       "array([[ 1,  2,  3,  4,  5,  6],\n",
       "       [ 1,  5,  9, 10, 11, 12],\n",
       "       [ 2,  6,  9, 13, 17, 18],\n",
       "       [ 3,  7, 10, 14, 17, 21],\n",
       "       [ 4,  8, 11, 15, 18, 22],\n",
       "       [ 7,  8, 12, 16, 19, 23],\n",
       "       [13, 14, 15, 16, 20, 24],\n",
       "       [19, 20, 21, 22, 23, 24]])"
      ]
     },
     "execution_count": 95,
     "metadata": {},
     "output_type": "execute_result"
    }
   ],
   "source": [
    "np.sort(np.vstack((c,d.T)),axis=0)"
   ]
  },
  {
   "cell_type": "markdown",
   "id": "b14cb153",
   "metadata": {},
   "source": [
    "# UFUNC OPERATIONS"
   ]
  },
  {
   "cell_type": "code",
   "execution_count": 87,
   "id": "bfaf9cef",
   "metadata": {},
   "outputs": [
    {
     "data": {
      "text/plain": [
       "array([-0.32141676,  0.01847806,  0.0407462 ,  0.72235306,  0.27720061,\n",
       "        1.26229279,  1.32221022,  1.95550421, -1.00065708,  0.23983974])"
      ]
     },
     "execution_count": 87,
     "metadata": {},
     "output_type": "execute_result"
    }
   ],
   "source": [
    "x = np.random.randn(10)\n",
    "y = np.random.randn(10)\n",
    "max1 = np.maximum(x,y)\n",
    "max1"
   ]
  },
  {
   "cell_type": "code",
   "execution_count": 88,
   "id": "d12a59fd",
   "metadata": {},
   "outputs": [
    {
     "data": {
      "text/plain": [
       "array([2.13188235, 1.22151757, 0.13738144, 0.74742505, 0.62555621,\n",
       "       1.26229279, 1.32221022, 1.95550421, 1.18047047, 0.23983974])"
      ]
     },
     "execution_count": 88,
     "metadata": {},
     "output_type": "execute_result"
    }
   ],
   "source": [
    "max2 =np.maximum(np.abs(x),np.abs(y))\n",
    "max2"
   ]
  },
  {
   "cell_type": "code",
   "execution_count": 91,
   "id": "72e147ae",
   "metadata": {},
   "outputs": [
    {
     "data": {
      "text/plain": [
       "(array([False, False, False, False, False,  True,  True,  True, False,\n",
       "         True]),\n",
       " 4)"
      ]
     },
     "execution_count": 91,
     "metadata": {},
     "output_type": "execute_result"
    }
   ],
   "source": [
    "np.equal(max1,max2),np.equal(max1,max2).sum()"
   ]
  },
  {
   "cell_type": "markdown",
   "id": "e277b418",
   "metadata": {},
   "source": [
    "# ARRAY ELEMENT OPERATIONS"
   ]
  },
  {
   "cell_type": "code",
   "execution_count": 109,
   "id": "3d5dea60",
   "metadata": {},
   "outputs": [
    {
     "data": {
      "text/plain": [
       "array([[-1.19699796,  0.65237723,  1.31444592, -0.55038981],\n",
       "       [ 0.9823068 ,  0.34662228, -0.26611348, -0.08597678],\n",
       "       [ 2.97667412,  0.34155429,  1.91458736, -1.57691105]])"
      ]
     },
     "execution_count": 109,
     "metadata": {},
     "output_type": "execute_result"
    }
   ],
   "source": [
    "x = np.random.randn(3,4)\n",
    "x"
   ]
  },
  {
   "cell_type": "code",
   "execution_count": 110,
   "id": "e484c8db",
   "metadata": {},
   "outputs": [
    {
     "name": "stdout",
     "output_type": "stream",
     "text": [
      "Whole array\n"
     ]
    },
    {
     "data": {
      "text/plain": [
       "(4.8521789180629185, 0.40434824317190987)"
      ]
     },
     "execution_count": 110,
     "metadata": {},
     "output_type": "execute_result"
    }
   ],
   "source": [
    "print(\"Whole array\")\n",
    "x.sum(),x.mean()"
   ]
  },
  {
   "cell_type": "code",
   "execution_count": 113,
   "id": "c4019b16",
   "metadata": {},
   "outputs": [
    {
     "name": "stdout",
     "output_type": "stream",
     "text": [
      "Each Row\n"
     ]
    },
    {
     "data": {
      "text/plain": [
       "(array([ 2.76198296,  1.3405538 ,  2.9629198 , -2.21327764]),\n",
       " array([ 0.92066099,  0.44685127,  0.98763993, -0.73775921]))"
      ]
     },
     "execution_count": 113,
     "metadata": {},
     "output_type": "execute_result"
    }
   ],
   "source": [
    "print(\"Each Column\")\n",
    "x.sum(axis=0),x.mean(axis=0)"
   ]
  },
  {
   "cell_type": "code",
   "execution_count": 114,
   "id": "20e353ec",
   "metadata": {},
   "outputs": [
    {
     "name": "stdout",
     "output_type": "stream",
     "text": [
      "Each Column\n"
     ]
    },
    {
     "data": {
      "text/plain": [
       "(array([0.21943539, 0.97683881, 3.65590472]),\n",
       " array([0.05485885, 0.2442097 , 0.91397618]))"
      ]
     },
     "execution_count": 114,
     "metadata": {},
     "output_type": "execute_result"
    }
   ],
   "source": [
    "print(\"Each Row\")\n",
    "x.sum(axis=1),x.mean(axis=1)"
   ]
  },
  {
   "cell_type": "code",
   "execution_count": 47,
   "id": "0c9598db",
   "metadata": {},
   "outputs": [],
   "source": [
    "a = np.ones(4).reshape(2,2)"
   ]
  },
  {
   "cell_type": "code",
   "execution_count": 48,
   "id": "0c17fb5c",
   "metadata": {},
   "outputs": [],
   "source": [
    "b = np.insert(a,1,[1],axis=1)"
   ]
  },
  {
   "cell_type": "code",
   "execution_count": 49,
   "id": "a8325c2f",
   "metadata": {},
   "outputs": [],
   "source": [
    "c = np.insert(b,1,[1],axis=0)"
   ]
  },
  {
   "cell_type": "code",
   "execution_count": 50,
   "id": "2d19bbaa",
   "metadata": {},
   "outputs": [
    {
     "data": {
      "text/plain": [
       "(array([[1., 1.],\n",
       "        [1., 1.]]),\n",
       " array([[1., 1., 1.],\n",
       "        [1., 1., 1.]]),\n",
       " array([[1., 1., 1.],\n",
       "        [1., 1., 1.],\n",
       "        [1., 1., 1.]]))"
      ]
     },
     "execution_count": 50,
     "metadata": {},
     "output_type": "execute_result"
    }
   ],
   "source": [
    "a,b,c"
   ]
  },
  {
   "cell_type": "code",
   "execution_count": 68,
   "id": "815011ac",
   "metadata": {},
   "outputs": [],
   "source": [
    "new_column = np.ones(len(c[:,0]))*2\n",
    "d = np.append(c,new_column[:,np.newaxis],axis=1)"
   ]
  },
  {
   "cell_type": "code",
   "execution_count": 78,
   "id": "ba3c5c73",
   "metadata": {},
   "outputs": [
    {
     "data": {
      "text/plain": [
       "array([[1., 1., 1., 2.],\n",
       "       [1., 1., 1., 2.],\n",
       "       [1., 1., 1., 2.],\n",
       "       [1., 1., 1., 2.],\n",
       "       [1., 1., 1., 2.],\n",
       "       [1., 1., 1., 2.]])"
      ]
     },
     "execution_count": 78,
     "metadata": {},
     "output_type": "execute_result"
    }
   ],
   "source": [
    "e = np.append(d,d,axis=0)\n",
    "e"
   ]
  },
  {
   "cell_type": "code",
   "execution_count": 81,
   "id": "fdf8a446",
   "metadata": {},
   "outputs": [
    {
     "data": {
      "text/plain": [
       "(array([1., 2.]),\n",
       " array([[1., 2.],\n",
       "        [1., 2.],\n",
       "        [1., 2.],\n",
       "        [1., 2.],\n",
       "        [1., 2.],\n",
       "        [1., 2.]]),\n",
       " array([[1., 1., 1., 2.]]))"
      ]
     },
     "execution_count": 81,
     "metadata": {},
     "output_type": "execute_result"
    }
   ],
   "source": [
    "np.unique(e),np.unique(e,axis=1),np.unique(e,axis=0)"
   ]
  },
  {
   "cell_type": "code",
   "execution_count": null,
   "id": "e26bea62",
   "metadata": {},
   "outputs": [],
   "source": []
  }
 ],
 "metadata": {
  "kernelspec": {
   "display_name": "Python 3 (ipykernel)",
   "language": "python",
   "name": "python3"
  },
  "language_info": {
   "codemirror_mode": {
    "name": "ipython",
    "version": 3
   },
   "file_extension": ".py",
   "mimetype": "text/x-python",
   "name": "python",
   "nbconvert_exporter": "python",
   "pygments_lexer": "ipython3",
   "version": "3.10.7"
  }
 },
 "nbformat": 4,
 "nbformat_minor": 5
}
