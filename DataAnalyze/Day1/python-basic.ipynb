{
 "cells": [
  {
   "cell_type": "markdown",
   "id": "d64c135a",
   "metadata": {},
   "source": [
    "# List"
   ]
  },
  {
   "cell_type": "code",
   "execution_count": 2,
   "id": "1d0f2cbd",
   "metadata": {},
   "outputs": [
    {
     "name": "stdout",
     "output_type": "stream",
     "text": [
      "['apple', 'banana', 'orange']\n",
      "banana\n",
      "['apple-new', 'banana', 'orange']\n",
      "['banana', 'orange', 'pear']\n"
     ]
    }
   ],
   "source": [
    "fruits = [\"apple\",\"banana\",\"orange\"]\n",
    "print(fruits[:])\n",
    "print(fruits[1])\n",
    "fruits[0] = \"apple-new\"\n",
    "print(fruits[:])\n",
    "fruits.append(\"pear\")\n",
    "fruits.append(\"grape\")\n",
    "print(fruits[1:4])"
   ]
  },
  {
   "cell_type": "markdown",
   "id": "b7c22e74",
   "metadata": {},
   "source": [
    "# Tuple"
   ]
  },
  {
   "cell_type": "code",
   "execution_count": 4,
   "id": "f4dc52b4",
   "metadata": {},
   "outputs": [
    {
     "name": "stdout",
     "output_type": "stream",
     "text": [
      "('apple-new', 'banana', 'orange', 'pear', 'grape')\n",
      "True\n",
      "apple-new\n",
      "banana\n",
      "orange\n",
      "pear\n",
      "grape\n",
      "100\n",
      "100\n"
     ]
    }
   ],
   "source": [
    "fruits_tuple = tuple(fruits)\n",
    "print(fruits_tuple)\n",
    "fruits_tuple_new = 'apple-new', 'banana', 'orange', 'pear', 'grape'\n",
    "print(fruits_tuple == fruits_tuple_new)\n",
    "a,b,c,d,e = fruits_tuple\n",
    "for i in a,b,c,d,e:\n",
    "    print(i)\n",
    "my_range = range(1,101) \n",
    "print(len(my_range))\n",
    "print(my_range[-1])\n",
    "#my_range[-1]=\"hundred\""
   ]
  },
  {
   "cell_type": "markdown",
   "id": "d1feca64",
   "metadata": {},
   "source": [
    "# Iteration Object"
   ]
  },
  {
   "cell_type": "code",
   "execution_count": 27,
   "id": "4c8f67e6",
   "metadata": {},
   "outputs": [
    {
     "name": "stdout",
     "output_type": "stream",
     "text": [
      "Here is number 0 object with value apple-new\n",
      "Here is number 1 object with value banana\n",
      "Here is number 2 object with value orange\n",
      "Here is number 3 object with value pear\n",
      "Here is number 4 object with value grape\n",
      "(1, 'apple-new')\n",
      "(2, 'banana')\n",
      "(3, 'orange')\n",
      "(4, 'pear')\n",
      "(5, 'grape')\n",
      "(1, 'apple-new')\n",
      "(2, 'banana')\n",
      "(3, 'orange')\n",
      "(4, 'pear')\n",
      "(5, 'grape')\n"
     ]
    }
   ],
   "source": [
    "for i,value in enumerate(fruits_tuple_new):\n",
    "    print(f\"Here is number {i} object with value {value}\")\n",
    "index_list=[1,2,3,4,5]\n",
    "for item in zip(index_list,fruits_tuple_new):\n",
    "    print(item)\n",
    "index_range=range(1,6)\n",
    "for item in zip(index_range,fruits_tuple_new):\n",
    "    print(item)"
   ]
  },
  {
   "cell_type": "markdown",
   "id": "e112e9aa",
   "metadata": {},
   "source": [
    "# Dictionary\n"
   ]
  },
  {
   "cell_type": "code",
   "execution_count": 39,
   "id": "6d97a60b",
   "metadata": {},
   "outputs": [
    {
     "name": "stdout",
     "output_type": "stream",
     "text": [
      "3\n",
      "dict_keys(['apple-new', 'banana', 'orange', 'pear', 'grape'])\n",
      "apple-new----1\n",
      "banana----2\n",
      "orange----3\n",
      "pear----4\n",
      "grape----5\n"
     ]
    }
   ],
   "source": [
    "fruit_dict = dict(zip(fruits_tuple_new,index_list))\n",
    "print(fruit_dict[\"orange\"])\n",
    "print(fruit_dict.keys())\n",
    "for i in fruit_dict.keys():\n",
    "    print(f\"{i}----{fruit_dict[i]}\")"
   ]
  },
  {
   "cell_type": "code",
   "execution_count": null,
   "id": "e7cadb55",
   "metadata": {},
   "outputs": [],
   "source": []
  }
 ],
 "metadata": {
  "kernelspec": {
   "display_name": "Python 3 (ipykernel)",
   "language": "python",
   "name": "python3"
  },
  "language_info": {
   "codemirror_mode": {
    "name": "ipython",
    "version": 3
   },
   "file_extension": ".py",
   "mimetype": "text/x-python",
   "name": "python",
   "nbconvert_exporter": "python",
   "pygments_lexer": "ipython3",
   "version": "3.12.1"
  }
 },
 "nbformat": 4,
 "nbformat_minor": 5
}
