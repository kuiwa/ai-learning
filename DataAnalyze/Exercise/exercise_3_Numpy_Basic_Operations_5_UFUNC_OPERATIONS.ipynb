{
 "cells": [
  {
   "cell_type": "markdown",
   "metadata": {},
   "source": [
    "# PREPARATION"
   ]
  },
  {
   "cell_type": "code",
   "execution_count": 1,
   "metadata": {},
   "outputs": [],
   "source": [
    "# # a) Click on JupyterHub File – New – Notebook in the upper left corner\n",
    "# # of the page button to create a new Notebook Used to save the\n",
    "# # content of this exercise\n",
    "# # b) Select Kernel for Python 3\n",
    "# # c) As in the previous exercise, modify the notebook File name:\n",
    "# # numpy.ipynb\n",
    "# # d) Enter import numpy as np in the first code box and try to execute\n",
    "# # it to confirm that there are no errors, indicating that the numpy\n",
    "# # library has been loaded successfully. In subsequent exercises, np\n",
    "# # will be used instead of numpy as an abbreviation.\n",
    "import numpy as np"
   ]
  },
  {
   "cell_type": "code",
   "execution_count": 19,
   "metadata": {},
   "outputs": [
    {
     "data": {
      "text/plain": [
       "(array([ 0.55463786,  0.80097669,  0.77949853,  1.13908322, -0.56497422,\n",
       "         1.04869483, -0.1674351 ,  0.6862208 , -0.36359509,  1.16810993]),\n",
       " array([ 1.07245807,  0.18237223, -0.67045402,  0.99580564, -0.49885598,\n",
       "        -0.37376171,  0.81337331,  0.06002768,  0.22356147, -0.21029625]))"
      ]
     },
     "execution_count": 19,
     "metadata": {},
     "output_type": "execute_result"
    }
   ],
   "source": [
    "# a) Use the np.random.randn function to create two arrays x and y respectively, with the number of members being 10. \n",
    "# Because they are random values, the output of the following examples will be different from your running results, for reference only.\n",
    "x = np.random.randn(10)\n",
    "y = np.random.randn(10)\n",
    "x, y"
   ]
  },
  {
   "cell_type": "code",
   "execution_count": 20,
   "metadata": {},
   "outputs": [
    {
     "data": {
      "text/plain": [
       "array([ 1.07245807,  0.80097669,  0.77949853,  1.13908322, -0.49885598,\n",
       "        1.04869483,  0.81337331,  0.6862208 ,  0.22356147,  1.16810993])"
      ]
     },
     "execution_count": 20,
     "metadata": {},
     "output_type": "execute_result"
    }
   ],
   "source": [
    "# b) Use the np.maximum method to find the maximum value of the element at the same index position in x, y, similar to the output:\n",
    "max = np.maximum(x, y)\n",
    "max"
   ]
  },
  {
   "cell_type": "code",
   "execution_count": 21,
   "metadata": {},
   "outputs": [
    {
     "data": {
      "text/plain": [
       "(array([0.55463786, 0.80097669, 0.77949853, 1.13908322, 0.56497422,\n",
       "        1.04869483, 0.1674351 , 0.6862208 , 0.36359509, 1.16810993]),\n",
       " array([1.07245807, 0.18237223, 0.67045402, 0.99580564, 0.49885598,\n",
       "        0.37376171, 0.81337331, 0.06002768, 0.22356147, 0.21029625]),\n",
       " array([1.07245807, 0.80097669, 0.77949853, 1.13908322, 0.56497422,\n",
       "        1.04869483, 0.81337331, 0.6862208 , 0.36359509, 1.16810993]))"
      ]
     },
     "execution_count": 21,
     "metadata": {},
     "output_type": "execute_result"
    }
   ],
   "source": [
    "# c) Then use the np.abs method to take the absolute value of the value in x, y, \n",
    "# and then use the np.maximum method again to find the maximum value of the element at the same index position in x, y.\n",
    "max_abs = np.maximum(np.abs(x), np.abs(y))\n",
    "np.abs(x), np.abs(y), max_abs"
   ]
  },
  {
   "cell_type": "code",
   "execution_count": 22,
   "metadata": {},
   "outputs": [
    {
     "data": {
      "text/plain": [
       "(array([ True,  True,  True,  True, False,  True,  True,  True, False,\n",
       "         True]),\n",
       " 8)"
      ]
     },
     "execution_count": 22,
     "metadata": {},
     "output_type": "execute_result"
    }
   ],
   "source": [
    "# d) Use np.equal to determine the difference between the two\n",
    "# maximum values and calculate the different amounts:\n",
    "np.equal(max, max_abs), np.equal(max, max_abs).sum()"
   ]
  },
  {
   "cell_type": "markdown",
   "metadata": {},
   "source": [
    "<!-- # CREATE NUMPY ARRAY -->"
   ]
  }
 ],
 "metadata": {
  "kernelspec": {
   "display_name": "Python 3",
   "language": "python",
   "name": "python3"
  },
  "language_info": {
   "codemirror_mode": {
    "name": "ipython",
    "version": 3
   },
   "file_extension": ".py",
   "mimetype": "text/x-python",
   "name": "python",
   "nbconvert_exporter": "python",
   "pygments_lexer": "ipython3",
   "version": "3.12.1"
  }
 },
 "nbformat": 4,
 "nbformat_minor": 2
}
