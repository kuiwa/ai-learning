{
 "cells": [
  {
   "cell_type": "markdown",
   "metadata": {},
   "source": [
    "# PREPARATION"
   ]
  },
  {
   "cell_type": "code",
   "execution_count": 1,
   "metadata": {},
   "outputs": [],
   "source": [
    "# # a) Click on JupyterHub File – New – Notebook in the upper left corner\n",
    "# # of the page button to create a new Notebook Used to save the\n",
    "# # content of this exercise\n",
    "# # b) Select Kernel for Python 3\n",
    "# # c) As in the previous exercise, modify the notebook File name:\n",
    "# # numpy.ipynb\n",
    "# # d) Enter import numpy as np in the first code box and try to execute\n",
    "# # it to confirm that there are no errors, indicating that the numpy\n",
    "# # library has been loaded successfully. In subsequent exercises, np\n",
    "# # will be used instead of numpy as an abbreviation.\n",
    "import numpy as np"
   ]
  },
  {
   "cell_type": "code",
   "execution_count": 20,
   "metadata": {},
   "outputs": [
    {
     "data": {
      "text/plain": [
       "array([[-2.12829248,  0.12330854, -1.45771201, -1.64923865],\n",
       "       [ 0.75667582, -0.79725572, -0.48623222,  0.78729426],\n",
       "       [-0.15485609,  0.43591776,  1.16426052,  0.52863373]])"
      ]
     },
     "execution_count": 20,
     "metadata": {},
     "output_type": "execute_result"
    }
   ],
   "source": [
    "# a) Using np.random.randn function creates a 3*4 array x and\n",
    "# use sum and mean function to calculate:\n",
    "x = np.random.randn(3, 4)\n",
    "x"
   ]
  },
  {
   "cell_type": "code",
   "execution_count": 22,
   "metadata": {},
   "outputs": [
    {
     "name": "stdout",
     "output_type": "stream",
     "text": [
      "Whole array\n"
     ]
    },
    {
     "data": {
      "text/plain": [
       "(-2.877496533108581, -0.23979137775904844)"
      ]
     },
     "execution_count": 22,
     "metadata": {},
     "output_type": "execute_result"
    }
   ],
   "source": [
    "# o Sum and average of this array as a whole\n",
    "print(\"Whole array\")\n",
    "x.sum(), x.mean()"
   ]
  },
  {
   "cell_type": "code",
   "execution_count": 23,
   "metadata": {},
   "outputs": [
    {
     "name": "stdout",
     "output_type": "stream",
     "text": [
      "Each Row\n"
     ]
    },
    {
     "data": {
      "text/plain": [
       "(array([-5.1119346 ,  0.26048215,  1.97395592]),\n",
       " array([-1.27798365,  0.06512054,  0.49348898]))"
      ]
     },
     "execution_count": 23,
     "metadata": {},
     "output_type": "execute_result"
    }
   ],
   "source": [
    "# o Sum and average of each row\n",
    "print(\"Each Row\")\n",
    "x.sum(axis=1), x.mean(axis=1)"
   ]
  },
  {
   "cell_type": "code",
   "execution_count": 24,
   "metadata": {},
   "outputs": [
    {
     "name": "stdout",
     "output_type": "stream",
     "text": [
      "Each Column\n"
     ]
    },
    {
     "data": {
      "text/plain": [
       "(array([-1.52647274, -0.23802942, -0.77968371, -0.33331066]),\n",
       " array([-0.50882425, -0.07934314, -0.25989457, -0.11110355]))"
      ]
     },
     "execution_count": 24,
     "metadata": {},
     "output_type": "execute_result"
    }
   ],
   "source": [
    "# o sum and mean of each column\n",
    "print(\"Each Column\")\n",
    "x.sum(axis=0), x.mean(axis=0)"
   ]
  },
  {
   "cell_type": "code",
   "execution_count": 31,
   "metadata": {},
   "outputs": [
    {
     "data": {
      "text/plain": [
       "array([[1., 1.],\n",
       "       [1., 1.]])"
      ]
     },
     "execution_count": 31,
     "metadata": {},
     "output_type": "execute_result"
    }
   ],
   "source": [
    "# b) Using np.one s and reshape to create a 2*2 array a with all member values 1.\n",
    "a = np.ones(4).reshape(2, 2)\n",
    "a"
   ]
  },
  {
   "cell_type": "code",
   "execution_count": 33,
   "metadata": {},
   "outputs": [
    {
     "data": {
      "text/plain": [
       "array([[1., 1., 1.],\n",
       "       [1., 1., 1.]])"
      ]
     },
     "execution_count": 33,
     "metadata": {},
     "output_type": "execute_result"
    }
   ],
   "source": [
    "# c) Use np.insert change array a shape to 2*3 keeping all member values 1 and assign this new array to b.\n",
    "b = np.ones(6).reshape(2, 3)\n",
    "b"
   ]
  },
  {
   "cell_type": "code",
   "execution_count": 34,
   "metadata": {},
   "outputs": [
    {
     "data": {
      "text/plain": [
       "array([[1., 1., 1.],\n",
       "       [1., 1., 1.],\n",
       "       [1., 1., 1.]])"
      ]
     },
     "execution_count": 34,
     "metadata": {},
     "output_type": "execute_result"
    }
   ],
   "source": [
    "# d) Use np.insert again change array b to 3*3 keeping the all member values as 1 and assign this new array to c.\n",
    "c = np.ones(9).reshape(3, 3)\n",
    "c"
   ]
  },
  {
   "cell_type": "code",
   "execution_count": 51,
   "metadata": {},
   "outputs": [
    {
     "data": {
      "text/plain": [
       "array([[1., 1., 1., 2.],\n",
       "       [1., 1., 1., 2.],\n",
       "       [1., 1., 1., 2.]])"
      ]
     },
     "execution_count": 51,
     "metadata": {},
     "output_type": "execute_result"
    }
   ],
   "source": [
    "# e) Using np.append change array c shape to 3 * 4 setting the value of the new column member to 2 and assign it to array d\n",
    "d = np.append(c, (np.ones(3) * 2).reshape(3, 1), axis=1)\n",
    "d"
   ]
  },
  {
   "cell_type": "code",
   "execution_count": 55,
   "metadata": {},
   "outputs": [
    {
     "data": {
      "text/plain": [
       "array([[1., 1., 1., 2.],\n",
       "       [1., 1., 1., 2.],\n",
       "       [1., 1., 1., 2.],\n",
       "       [1., 1., 1., 2.],\n",
       "       [1., 1., 1., 2.],\n",
       "       [1., 1., 1., 2.]])"
      ]
     },
     "execution_count": 55,
     "metadata": {},
     "output_type": "execute_result"
    }
   ],
   "source": [
    "# f) Using np.append again change array d shape to 6*4 by adding 3 new lines to it and assigned to array e.\n",
    "e = np.append(d, d, axis=0)\n",
    "e"
   ]
  },
  {
   "cell_type": "code",
   "execution_count": 57,
   "metadata": {},
   "outputs": [
    {
     "data": {
      "text/plain": [
       "(array([1., 2.]),\n",
       " array([[1., 1., 1., 2.]]),\n",
       " array([[1., 2.],\n",
       "        [1., 2.],\n",
       "        [1., 2.],\n",
       "        [1., 2.],\n",
       "        [1., 2.],\n",
       "        [1., 2.]]))"
      ]
     },
     "execution_count": 57,
     "metadata": {},
     "output_type": "execute_result"
    }
   ],
   "source": [
    "# g) Utilize np.unique function prints the unique value information of the entire array e, rows, and columns respectively.\n",
    "np.unique(e), np.unique(e, axis=0), np.unique(e, axis=1)"
   ]
  },
  {
   "cell_type": "markdown",
   "metadata": {},
   "source": [
    "<!-- # CREATE NUMPY ARRAY -->"
   ]
  }
 ],
 "metadata": {
  "kernelspec": {
   "display_name": "Python 3",
   "language": "python",
   "name": "python3"
  },
  "language_info": {
   "codemirror_mode": {
    "name": "ipython",
    "version": 3
   },
   "file_extension": ".py",
   "mimetype": "text/x-python",
   "name": "python",
   "nbconvert_exporter": "python",
   "pygments_lexer": "ipython3",
   "version": "3.12.1"
  }
 },
 "nbformat": 4,
 "nbformat_minor": 2
}
