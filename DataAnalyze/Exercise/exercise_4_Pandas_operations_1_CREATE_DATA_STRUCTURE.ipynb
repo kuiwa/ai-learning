{
 "cells": [
  {
   "cell_type": "markdown",
   "id": "ee8aed61-8f01-42b2-9116-71f2a34eafc2",
   "metadata": {},
   "source": [
    "PREPARATION"
   ]
  },
  {
   "cell_type": "code",
   "execution_count": 3,
   "id": "cc148350-ac96-4677-9d4c-8d4c67c139b5",
   "metadata": {},
   "outputs": [],
   "source": [
    "\"\"\"\n",
    "a) Click on JupyterHub File – New – Notebook in the upper left corner\n",
    "of the page button to create a new Notebook Used to save the\n",
    "content of this part of the exercise\n",
    "\"\"\"\n",
    "\n",
    "\"\"\"\n",
    "b) Select Kernel for Python 3\n",
    "\"\"\"\n",
    "\n",
    "\"\"\"\n",
    "c) As in the previous exercise, modify the notebook File name: p\n",
    "andas.ipynb\n",
    "\"\"\"\n",
    "\n",
    "\"\"\"\n",
    "d) Enter the import numpy and pandas statements in the first cell for\n",
    "subsequent exercises, and give them new names np and pd\n",
    "respectively.\n",
    "\"\"\"\n",
    "import numpy as np\n",
    "import pandas as pd"
   ]
  },
  {
   "cell_type": "markdown",
   "id": "f58c9052-8410-4155-b49d-f02404a0ce1c",
   "metadata": {},
   "source": [
    "# CREATE DATA STRUCTURE"
   ]
  },
  {
   "cell_type": "code",
   "execution_count": 4,
   "id": "d5b79081-3f02-4eff-8ad6-62cffcf9ddb7",
   "metadata": {},
   "outputs": [
    {
     "name": "stdout",
     "output_type": "stream",
     "text": [
      "['a', 'b', 'c', 'd', 'e']\n"
     ]
    }
   ],
   "source": [
    "\"\"\"\n",
    "a) Create a List object: list_s_1, fill the objects from a to e, 5\n",
    "lowercase English letters.\n",
    "\"\"\"\n",
    "list_s_1 = ['a','b','c','d','e']\n",
    "print(list_s_1)"
   ]
  },
  {
   "cell_type": "code",
   "execution_count": 5,
   "id": "49f78197",
   "metadata": {},
   "outputs": [
    {
     "name": "stdout",
     "output_type": "stream",
     "text": [
      "0    a\n",
      "1    b\n",
      "2    c\n",
      "3    d\n",
      "4    e\n",
      "dtype: object\n"
     ]
    }
   ],
   "source": [
    "\"\"\"\n",
    "b) Using pd.Series create a Series named s_1 based on list _s_1 as\n",
    "data source.\n",
    "\"\"\"\n",
    "s_1 = pd.Series(list_s_1)\n",
    "print(s_1)\n"
   ]
  },
  {
   "cell_type": "code",
   "execution_count": 6,
   "id": "ee8b0ab8",
   "metadata": {},
   "outputs": [
    {
     "name": "stdout",
     "output_type": "stream",
     "text": [
      "0    1\n",
      "1    2\n",
      "2    3\n",
      "3    4\n",
      "4    5\n",
      "dtype: int32\n"
     ]
    }
   ],
   "source": [
    "\"\"\"\n",
    "c) Then use np.arange to provide data for pd.Series and create an s_2 object with an integer content of 1 to 5\n",
    "\"\"\"\n",
    "s_2 = pd.Series(np.arange(1,6))\n",
    "print(s_2)"
   ]
  },
  {
   "cell_type": "code",
   "execution_count": 7,
   "id": "b9057b3f",
   "metadata": {},
   "outputs": [
    {
     "name": "stdout",
     "output_type": "stream",
     "text": [
      "A    0.633869\n",
      "B   -1.383308\n",
      "C    1.706056\n",
      "D    1.153724\n",
      "E   -0.929992\n",
      "dtype: float64\n"
     ]
    }
   ],
   "source": [
    "\"\"\"\n",
    "d) Create a List object: list_index_1, fill the object with 5 uppercase English letters from A to E. \n",
    "Then use it as the index data of pd.Series and np.random as the data to create a Series with 5 random numbers: s_3\n",
    "Machine learning data analysis\n",
    "\"\"\"\n",
    "list_index_1 = ['A', 'B', 'C', 'D', 'E']\n",
    "s_3 = pd.Series(np.random.randn(5), index=list_index_1)\n",
    "print(s_3)"
   ]
  },
  {
   "cell_type": "code",
   "execution_count": 8,
   "id": "56ee43a0",
   "metadata": {},
   "outputs": [
    {
     "data": {
      "text/plain": [
       "(A    a\n",
       " B    b\n",
       " C    c\n",
       " D    d\n",
       " E    e\n",
       " dtype: object,\n",
       " A    1\n",
       " B    2\n",
       " C    3\n",
       " D    4\n",
       " E    5\n",
       " dtype: int32)"
      ]
     },
     "execution_count": 8,
     "metadata": {},
     "output_type": "execute_result"
    }
   ],
   "source": [
    "\"\"\"\n",
    "e) Try using Series index property assignment to modify its Index\n",
    "information, to unify the index information of s_1 and s_2 into\n",
    "list_index_1 , keeping it consistent with s_3 :\n",
    "\"\"\"\n",
    "s_1.index = list_index_1\n",
    "s_2.index = list_index_1\n",
    "s_1,s_2"
   ]
  },
  {
   "cell_type": "code",
   "execution_count": 9,
   "id": "cf4de0f0-5c5f-4f58-b64f-29abc029d56b",
   "metadata": {},
   "outputs": [
    {
     "data": {
      "text/html": [
       "<div>\n",
       "<style scoped>\n",
       "    .dataframe tbody tr th:only-of-type {\n",
       "        vertical-align: middle;\n",
       "    }\n",
       "\n",
       "    .dataframe tbody tr th {\n",
       "        vertical-align: top;\n",
       "    }\n",
       "\n",
       "    .dataframe thead th {\n",
       "        text-align: right;\n",
       "    }\n",
       "</style>\n",
       "<table border=\"1\" class=\"dataframe\">\n",
       "  <thead>\n",
       "    <tr style=\"text-align: right;\">\n",
       "      <th></th>\n",
       "      <th>A</th>\n",
       "      <th>B</th>\n",
       "      <th>C</th>\n",
       "      <th>D</th>\n",
       "      <th>E</th>\n",
       "    </tr>\n",
       "  </thead>\n",
       "  <tbody>\n",
       "    <tr>\n",
       "      <th>0</th>\n",
       "      <td>a</td>\n",
       "      <td>b</td>\n",
       "      <td>c</td>\n",
       "      <td>d</td>\n",
       "      <td>e</td>\n",
       "    </tr>\n",
       "    <tr>\n",
       "      <th>1</th>\n",
       "      <td>1</td>\n",
       "      <td>2</td>\n",
       "      <td>3</td>\n",
       "      <td>4</td>\n",
       "      <td>5</td>\n",
       "    </tr>\n",
       "    <tr>\n",
       "      <th>2</th>\n",
       "      <td>0.633869</td>\n",
       "      <td>-1.383308</td>\n",
       "      <td>1.706056</td>\n",
       "      <td>1.153724</td>\n",
       "      <td>-0.929992</td>\n",
       "    </tr>\n",
       "  </tbody>\n",
       "</table>\n",
       "</div>"
      ],
      "text/plain": [
       "          A         B         C         D         E\n",
       "0         a         b         c         d         e\n",
       "1         1         2         3         4         5\n",
       "2  0.633869 -1.383308  1.706056  1.153724 -0.929992"
      ]
     },
     "execution_count": 9,
     "metadata": {},
     "output_type": "execute_result"
    }
   ],
   "source": [
    "\"\"\"\n",
    "f) Try to form a List from s_1, s_2 and s_3 and provide it to\n",
    "pd.DataFrame as data to create a DataFrame and check the\n",
    "result:\n",
    "\"\"\"\n",
    "pd.DataFrame([s_1,s_2,s_3])"
   ]
  },
  {
   "cell_type": "code",
   "execution_count": 10,
   "id": "3625ff2e-3922-4453-8c99-889c5178002d",
   "metadata": {},
   "outputs": [
    {
     "data": {
      "text/html": [
       "<div>\n",
       "<style scoped>\n",
       "    .dataframe tbody tr th:only-of-type {\n",
       "        vertical-align: middle;\n",
       "    }\n",
       "\n",
       "    .dataframe tbody tr th {\n",
       "        vertical-align: top;\n",
       "    }\n",
       "\n",
       "    .dataframe thead th {\n",
       "        text-align: right;\n",
       "    }\n",
       "</style>\n",
       "<table border=\"1\" class=\"dataframe\">\n",
       "  <thead>\n",
       "    <tr style=\"text-align: right;\">\n",
       "      <th></th>\n",
       "      <th>s1</th>\n",
       "      <th>s2</th>\n",
       "      <th>s3</th>\n",
       "    </tr>\n",
       "  </thead>\n",
       "  <tbody>\n",
       "    <tr>\n",
       "      <th>A</th>\n",
       "      <td>a</td>\n",
       "      <td>1</td>\n",
       "      <td>0.633869</td>\n",
       "    </tr>\n",
       "    <tr>\n",
       "      <th>B</th>\n",
       "      <td>b</td>\n",
       "      <td>2</td>\n",
       "      <td>-1.383308</td>\n",
       "    </tr>\n",
       "    <tr>\n",
       "      <th>C</th>\n",
       "      <td>c</td>\n",
       "      <td>3</td>\n",
       "      <td>1.706056</td>\n",
       "    </tr>\n",
       "    <tr>\n",
       "      <th>D</th>\n",
       "      <td>d</td>\n",
       "      <td>4</td>\n",
       "      <td>1.153724</td>\n",
       "    </tr>\n",
       "    <tr>\n",
       "      <th>E</th>\n",
       "      <td>e</td>\n",
       "      <td>5</td>\n",
       "      <td>-0.929992</td>\n",
       "    </tr>\n",
       "  </tbody>\n",
       "</table>\n",
       "</div>"
      ],
      "text/plain": [
       "  s1  s2        s3\n",
       "A  a   1  0.633869\n",
       "B  b   2 -1.383308\n",
       "C  c   3  1.706056\n",
       "D  d   4  1.153724\n",
       "E  e   5 -0.929992"
      ]
     },
     "execution_count": 10,
     "metadata": {},
     "output_type": "execute_result"
    }
   ],
   "source": [
    "\"\"\"\n",
    "g) Create s_1, s_2 and s_3 respectively as column data of DataFrame. \n",
    "Try to create them in dict form and set the column names to s1, s2 and s3 respectively. \n",
    "Assign the newly created DataFrame to d_1.\n",
    "\"\"\"\n",
    "# d1 = {\n",
    "#     \"s1\" : s_1,\n",
    "#     \"s2\" : s_2,\n",
    "#     \"s3\" : s_3,\n",
    "    \n",
    "# }\n",
    "# pd.DataFrame(d1)\n",
    "d_1 = pd.DataFrame({'s1':s_1, 's2': s_2, 's3': s_3 })\n",
    "d_1"
   ]
  },
  {
   "cell_type": "code",
   "execution_count": 11,
   "id": "116d8281-d651-4638-8228-1986799fac3e",
   "metadata": {},
   "outputs": [
    {
     "data": {
      "text/html": [
       "<div>\n",
       "<style scoped>\n",
       "    .dataframe tbody tr th:only-of-type {\n",
       "        vertical-align: middle;\n",
       "    }\n",
       "\n",
       "    .dataframe tbody tr th {\n",
       "        vertical-align: top;\n",
       "    }\n",
       "\n",
       "    .dataframe thead th {\n",
       "        text-align: right;\n",
       "    }\n",
       "</style>\n",
       "<table border=\"1\" class=\"dataframe\">\n",
       "  <thead>\n",
       "    <tr style=\"text-align: right;\">\n",
       "      <th></th>\n",
       "      <th>s1</th>\n",
       "      <th>s2</th>\n",
       "      <th>s3</th>\n",
       "    </tr>\n",
       "  </thead>\n",
       "  <tbody>\n",
       "    <tr>\n",
       "      <th>a</th>\n",
       "      <td>NaN</td>\n",
       "      <td>NaN</td>\n",
       "      <td>NaN</td>\n",
       "    </tr>\n",
       "    <tr>\n",
       "      <th>b</th>\n",
       "      <td>NaN</td>\n",
       "      <td>NaN</td>\n",
       "      <td>NaN</td>\n",
       "    </tr>\n",
       "    <tr>\n",
       "      <th>c</th>\n",
       "      <td>NaN</td>\n",
       "      <td>NaN</td>\n",
       "      <td>NaN</td>\n",
       "    </tr>\n",
       "    <tr>\n",
       "      <th>d</th>\n",
       "      <td>NaN</td>\n",
       "      <td>NaN</td>\n",
       "      <td>NaN</td>\n",
       "    </tr>\n",
       "    <tr>\n",
       "      <th>e</th>\n",
       "      <td>NaN</td>\n",
       "      <td>NaN</td>\n",
       "      <td>NaN</td>\n",
       "    </tr>\n",
       "  </tbody>\n",
       "</table>\n",
       "</div>"
      ],
      "text/plain": [
       "    s1  s2  s3\n",
       "a  NaN NaN NaN\n",
       "b  NaN NaN NaN\n",
       "c  NaN NaN NaN\n",
       "d  NaN NaN NaN\n",
       "e  NaN NaN NaN"
      ]
     },
     "execution_count": 11,
     "metadata": {},
     "output_type": "execute_result"
    }
   ],
   "source": [
    "\"\"\"\n",
    "h) Try to use the list_s_1 created earlier as index data, create DataFrame d_2 with the same data as in the previous step, \n",
    "and check the creation results.:\n",
    "\"\"\"\n",
    "# The index list doesn't match, so all columns are NaN\n",
    "pd.DataFrame({'s1':s_1, 's2': s_2, 's3': s_3 }, index=list_s_1)"
   ]
  },
  {
   "cell_type": "code",
   "execution_count": 12,
   "id": "2eb22eb7",
   "metadata": {},
   "outputs": [
    {
     "data": {
      "text/html": [
       "<div>\n",
       "<style scoped>\n",
       "    .dataframe tbody tr th:only-of-type {\n",
       "        vertical-align: middle;\n",
       "    }\n",
       "\n",
       "    .dataframe tbody tr th {\n",
       "        vertical-align: top;\n",
       "    }\n",
       "\n",
       "    .dataframe thead th {\n",
       "        text-align: right;\n",
       "    }\n",
       "</style>\n",
       "<table border=\"1\" class=\"dataframe\">\n",
       "  <thead>\n",
       "    <tr style=\"text-align: right;\">\n",
       "      <th></th>\n",
       "      <th>s1</th>\n",
       "      <th>s2</th>\n",
       "      <th>s3</th>\n",
       "    </tr>\n",
       "  </thead>\n",
       "  <tbody>\n",
       "    <tr>\n",
       "      <th>A</th>\n",
       "      <td>a</td>\n",
       "      <td>1</td>\n",
       "      <td>0.633869</td>\n",
       "    </tr>\n",
       "    <tr>\n",
       "      <th>B</th>\n",
       "      <td>b</td>\n",
       "      <td>2</td>\n",
       "      <td>-1.383308</td>\n",
       "    </tr>\n",
       "    <tr>\n",
       "      <th>C</th>\n",
       "      <td>c</td>\n",
       "      <td>3</td>\n",
       "      <td>1.706056</td>\n",
       "    </tr>\n",
       "    <tr>\n",
       "      <th>D</th>\n",
       "      <td>d</td>\n",
       "      <td>4</td>\n",
       "      <td>1.153724</td>\n",
       "    </tr>\n",
       "    <tr>\n",
       "      <th>E</th>\n",
       "      <td>e</td>\n",
       "      <td>5</td>\n",
       "      <td>-0.929992</td>\n",
       "    </tr>\n",
       "  </tbody>\n",
       "</table>\n",
       "</div>"
      ],
      "text/plain": [
       "  s1  s2        s3\n",
       "A  a   1  0.633869\n",
       "B  b   2 -1.383308\n",
       "C  c   3  1.706056\n",
       "D  d   4  1.153724\n",
       "E  e   5 -0.929992"
      ]
     },
     "execution_count": 12,
     "metadata": {},
     "output_type": "execute_result"
    }
   ],
   "source": [
    "# Matched index list\n",
    "pd.DataFrame({'s1':s_1, 's2': s_2, 's3': s_3 }, index=list_index_1)"
   ]
  }
 ],
 "metadata": {
  "kernelspec": {
   "display_name": "Python 3",
   "language": "python",
   "name": "python3"
  },
  "language_info": {
   "codemirror_mode": {
    "name": "ipython",
    "version": 3
   },
   "file_extension": ".py",
   "mimetype": "text/x-python",
   "name": "python",
   "nbconvert_exporter": "python",
   "pygments_lexer": "ipython3",
   "version": "3.12.1"
  }
 },
 "nbformat": 4,
 "nbformat_minor": 5
}
