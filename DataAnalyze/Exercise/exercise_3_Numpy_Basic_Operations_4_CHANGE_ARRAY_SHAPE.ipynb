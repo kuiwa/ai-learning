{
 "cells": [
  {
   "cell_type": "markdown",
   "metadata": {},
   "source": [
    "# PREPARATION"
   ]
  },
  {
   "cell_type": "code",
   "execution_count": 1,
   "metadata": {},
   "outputs": [],
   "source": [
    "# # a) Click on JupyterHub File – New – Notebook in the upper left corner\n",
    "# # of the page button to create a new Notebook Used to save the\n",
    "# # content of this exercise\n",
    "# # b) Select Kernel for Python 3\n",
    "# # c) As in the previous exercise, modify the notebook File name:\n",
    "# # numpy.ipynb\n",
    "# # d) Enter import numpy as np in the first code box and try to execute\n",
    "# # it to confirm that there are no errors, indicating that the numpy\n",
    "# # library has been loaded successfully. In subsequent exercises, np\n",
    "# # will be used instead of numpy as an abbreviation.\n",
    "import numpy as np"
   ]
  },
  {
   "cell_type": "code",
   "execution_count": 6,
   "metadata": {},
   "outputs": [
    {
     "data": {
      "text/plain": [
       "array([ 1,  2,  3,  4,  5,  6,  7,  8,  9, 10, 11, 12, 13, 14, 15, 16, 17,\n",
       "       18, 19, 20, 21, 22, 23, 24])"
      ]
     },
     "execution_count": 6,
     "metadata": {},
     "output_type": "execute_result"
    }
   ],
   "source": [
    "# a) Use the flat attribute and ravel function of the array to \"flatten\" the members in the array c from the previous exercise respectively \n",
    "# and then iterate and print to see the flattened results and output order:\n",
    "c = np.arange(1, 25).reshape(4, 6)\n",
    "c.ravel()"
   ]
  },
  {
   "cell_type": "code",
   "execution_count": 7,
   "metadata": {},
   "outputs": [
    {
     "name": "stdout",
     "output_type": "stream",
     "text": [
      "1\n",
      "2\n",
      "3\n",
      "4\n",
      "5\n",
      "6\n",
      "7\n",
      "8\n",
      "9\n",
      "10\n",
      "11\n",
      "12\n",
      "13\n",
      "14\n",
      "15\n",
      "16\n",
      "17\n",
      "18\n",
      "19\n",
      "20\n",
      "21\n",
      "22\n",
      "23\n",
      "24\n"
     ]
    }
   ],
   "source": [
    "for i in c.ravel():\n",
    "    print(i)"
   ]
  },
  {
   "cell_type": "code",
   "execution_count": 8,
   "metadata": {},
   "outputs": [
    {
     "data": {
      "text/plain": [
       "array([[ 1,  2,  3,  4],\n",
       "       [ 5,  6,  7,  8],\n",
       "       [ 9, 10, 11, 12],\n",
       "       [13, 14, 15, 16],\n",
       "       [17, 18, 19, 20],\n",
       "       [21, 22, 23, 24]])"
      ]
     },
     "execution_count": 8,
     "metadata": {},
     "output_type": "execute_result"
    }
   ],
   "source": [
    "# b) Change array c’s shape to 6*4 and assign it to the new array d.\n",
    "d = c.reshape(6, 4)\n",
    "d"
   ]
  },
  {
   "cell_type": "code",
   "execution_count": 13,
   "metadata": {},
   "outputs": [
    {
     "data": {
      "text/plain": [
       "array([[ True,  True,  True,  True,  True,  True],\n",
       "       [ True,  True,  True,  True,  True,  True],\n",
       "       [ True,  True,  True,  True,  True,  True],\n",
       "       [ True,  True,  True,  True,  True,  True]])"
      ]
     },
     "execution_count": 13,
     "metadata": {},
     "output_type": "execute_result"
    }
   ],
   "source": [
    "# c) Use the T attribute and the transpose function to create the\n",
    "# transposition of the d array respectively and compare whether the\n",
    "# two results are consistent (same shape, same elements).\n",
    "d.T == d.transpose()"
   ]
  },
  {
   "cell_type": "code",
   "execution_count": 22,
   "metadata": {},
   "outputs": [
    {
     "data": {
      "text/plain": [
       "(array([[ 1,  2,  3,  4,  5,  6],\n",
       "        [ 7,  8,  9, 10, 11, 12],\n",
       "        [13, 14, 15, 16, 17, 18],\n",
       "        [19, 20, 21, 22, 23, 24],\n",
       "        [ 1,  5,  9, 13, 17, 21],\n",
       "        [ 2,  6, 10, 14, 18, 22],\n",
       "        [ 3,  7, 11, 15, 19, 23],\n",
       "        [ 4,  8, 12, 16, 20, 24]]),\n",
       " array([[ 1,  2,  3,  4,  5,  6,  1,  5,  9, 13, 17, 21],\n",
       "        [ 7,  8,  9, 10, 11, 12,  2,  6, 10, 14, 18, 22],\n",
       "        [13, 14, 15, 16, 17, 18,  3,  7, 11, 15, 19, 23],\n",
       "        [19, 20, 21, 22, 23, 24,  4,  8, 12, 16, 20, 24]]))"
      ]
     },
     "execution_count": 22,
     "metadata": {},
     "output_type": "execute_result"
    }
   ],
   "source": [
    "# d) Use vstack and hstack to stack c and d vertically and horizontally\n",
    "# respectively (note: c and d have different shapes):\n",
    "np.vstack((c, d.T)), np.hstack((c, d.T))"
   ]
  },
  {
   "cell_type": "code",
   "execution_count": 26,
   "metadata": {},
   "outputs": [
    {
     "data": {
      "text/plain": [
       "(array([[ 1,  2,  3,  4,  5,  6],\n",
       "        [ 1,  5,  9, 10, 11, 12],\n",
       "        [ 2,  6,  9, 13, 17, 18],\n",
       "        [ 3,  7, 10, 14, 17, 21],\n",
       "        [ 4,  8, 11, 15, 18, 22],\n",
       "        [ 7,  8, 12, 16, 19, 23],\n",
       "        [13, 14, 15, 16, 20, 24],\n",
       "        [19, 20, 21, 22, 23, 24]]),\n",
       " array([[ 1,  1,  2,  3,  4,  5,  5,  6,  9, 13, 17, 21],\n",
       "        [ 2,  6,  7,  8,  9, 10, 10, 11, 12, 14, 18, 22],\n",
       "        [ 3,  7, 11, 13, 14, 15, 15, 16, 17, 18, 19, 23],\n",
       "        [ 4,  8, 12, 16, 19, 20, 20, 21, 22, 23, 24, 24]]))"
      ]
     },
     "execution_count": 26,
     "metadata": {},
     "output_type": "execute_result"
    }
   ],
   "source": [
    "# e) Using np.sort function sorts the stacked array in previous step and will get the following results:\n",
    "np.sort(np.vstack((c, d.T)), axis=0), np.sort(np.hstack((c, d.T)))"
   ]
  },
  {
   "cell_type": "markdown",
   "metadata": {},
   "source": [
    "<!-- # CREATE NUMPY ARRAY -->"
   ]
  }
 ],
 "metadata": {
  "kernelspec": {
   "display_name": "Python 3",
   "language": "python",
   "name": "python3"
  },
  "language_info": {
   "codemirror_mode": {
    "name": "ipython",
    "version": 3
   },
   "file_extension": ".py",
   "mimetype": "text/x-python",
   "name": "python",
   "nbconvert_exporter": "python",
   "pygments_lexer": "ipython3",
   "version": "3.12.1"
  }
 },
 "nbformat": 4,
 "nbformat_minor": 2
}
