{
 "cells": [
  {
   "cell_type": "markdown",
   "id": "ee8aed61-8f01-42b2-9116-71f2a34eafc2",
   "metadata": {},
   "source": [
    "PREPARATION"
   ]
  },
  {
   "cell_type": "code",
   "execution_count": 23,
   "id": "cc148350-ac96-4677-9d4c-8d4c67c139b5",
   "metadata": {},
   "outputs": [],
   "source": [
    "\"\"\"\n",
    "a) Click on JupyterHub File – New – Notebook in the upper left corner\n",
    "of the page button to create a new Notebook Used to save the\n",
    "content of this part of the exercise\n",
    "\"\"\"\n",
    "\n",
    "\"\"\"\n",
    "b) Select Kernel for Python 3\n",
    "\"\"\"\n",
    "\n",
    "\"\"\"\n",
    "c) As in the previous exercise, modify the notebook File name: p\n",
    "andas.ipynb\n",
    "\"\"\"\n",
    "\n",
    "\"\"\"\n",
    "d) Enter the import numpy and pandas statements in the first cell for\n",
    "subsequent exercises, and give them new names np and pd\n",
    "respectively.\n",
    "\"\"\"\n",
    "import numpy as np\n",
    "import pandas as pd"
   ]
  },
  {
   "cell_type": "code",
   "execution_count": 24,
   "id": "3625ff2e-3922-4453-8c99-889c5178002d",
   "metadata": {},
   "outputs": [
    {
     "data": {
      "text/html": [
       "<div>\n",
       "<style scoped>\n",
       "    .dataframe tbody tr th:only-of-type {\n",
       "        vertical-align: middle;\n",
       "    }\n",
       "\n",
       "    .dataframe tbody tr th {\n",
       "        vertical-align: top;\n",
       "    }\n",
       "\n",
       "    .dataframe thead th {\n",
       "        text-align: right;\n",
       "    }\n",
       "</style>\n",
       "<table border=\"1\" class=\"dataframe\">\n",
       "  <thead>\n",
       "    <tr style=\"text-align: right;\">\n",
       "      <th></th>\n",
       "      <th>s1</th>\n",
       "      <th>s2</th>\n",
       "      <th>s3</th>\n",
       "    </tr>\n",
       "  </thead>\n",
       "  <tbody>\n",
       "    <tr>\n",
       "      <th>A</th>\n",
       "      <td>a</td>\n",
       "      <td>1</td>\n",
       "      <td>-0.870561</td>\n",
       "    </tr>\n",
       "    <tr>\n",
       "      <th>B</th>\n",
       "      <td>b</td>\n",
       "      <td>2</td>\n",
       "      <td>1.160421</td>\n",
       "    </tr>\n",
       "    <tr>\n",
       "      <th>C</th>\n",
       "      <td>c</td>\n",
       "      <td>3</td>\n",
       "      <td>1.819826</td>\n",
       "    </tr>\n",
       "    <tr>\n",
       "      <th>D</th>\n",
       "      <td>d</td>\n",
       "      <td>4</td>\n",
       "      <td>0.207307</td>\n",
       "    </tr>\n",
       "    <tr>\n",
       "      <th>E</th>\n",
       "      <td>e</td>\n",
       "      <td>5</td>\n",
       "      <td>0.031809</td>\n",
       "    </tr>\n",
       "  </tbody>\n",
       "</table>\n",
       "</div>"
      ],
      "text/plain": [
       "  s1  s2        s3\n",
       "A  a   1 -0.870561\n",
       "B  b   2  1.160421\n",
       "C  c   3  1.819826\n",
       "D  d   4  0.207307\n",
       "E  e   5  0.031809"
      ]
     },
     "execution_count": 24,
     "metadata": {},
     "output_type": "execute_result"
    }
   ],
   "source": [
    "\"\"\"\n",
    "g) Create s_1, s_2 and s_3 respectively as column data of DataFrame. \n",
    "Try to create them in dict form and set the column names to s1, s2 and s3 respectively. \n",
    "Assign the newly created DataFrame to d_1.\n",
    "\"\"\"\n",
    "# d1 = {\n",
    "#     \"s1\" : s_1,\n",
    "#     \"s2\" : s_2,\n",
    "#     \"s3\" : s_3,\n",
    "    \n",
    "# }\n",
    "# pd.DataFrame(d1)\n",
    "list_s_1 = ['a','b','c','d','e']\n",
    "s_1 = pd.Series(list_s_1)\n",
    "\n",
    "s_2 = pd.Series(np.arange(1,6))\n",
    "\n",
    "list_index_1 = ['A', 'B', 'C', 'D', 'E']\n",
    "s_3 = pd.Series(np.random.randn(5), index=list_index_1)\n",
    "s_1.index = list_index_1\n",
    "s_2.index = list_index_1\n",
    "d_1 = pd.DataFrame({'s1':s_1, 's2': s_2, 's3': s_3 })\n",
    "d_1"
   ]
  },
  {
   "cell_type": "markdown",
   "id": "720b017c-44f5-4d6e-8269-d858a7daafcb",
   "metadata": {},
   "source": [
    "# ACCESS BASIC INFORMATION (PROPERTIES) OF THE DATA STRUCTURE"
   ]
  },
  {
   "cell_type": "code",
   "execution_count": 25,
   "id": "f3eebf4d",
   "metadata": {},
   "outputs": [
    {
     "data": {
      "text/plain": [
       "(  s1  s2        s3\n",
       " A  a   1 -0.870561\n",
       " B  b   2  1.160421\n",
       " C  c   3  1.819826\n",
       " D  d   4  0.207307\n",
       " E  e   5  0.031809,\n",
       " Index(['A', 'B', 'C', 'D', 'E'], dtype='object'),\n",
       " Index(['s1', 's2', 's3'], dtype='object'))"
      ]
     },
     "execution_count": 25,
     "metadata": {},
     "output_type": "execute_result"
    }
   ],
   "source": [
    "\"\"\"\n",
    " a) Based on the result of the previous exercise d_1 object, view its property information. \n",
    " First, view its row and column Index information:\n",
    "\"\"\"\n",
    "d_1, d_1.index, d_1.columns"
   ]
  },
  {
   "cell_type": "code",
   "execution_count": 26,
   "id": "abd7955a",
   "metadata": {},
   "outputs": [
    {
     "data": {
      "text/plain": [
       "(s1           a\n",
       " s2           1\n",
       " s3   -0.870561\n",
       " Name: A, dtype: object,\n",
       " Index(['s1', 's2', 's3'], dtype='object'))"
      ]
     },
     "execution_count": 26,
     "metadata": {},
     "output_type": "execute_result"
    }
   ],
   "source": [
    "\"\"\"\n",
    "b) Based on the first row of d_1 , view the index information of the data.\n",
    "\"\"\"\n",
    "d_1.loc['A'], d_1.loc['A'].index"
   ]
  },
  {
   "cell_type": "code",
   "execution_count": 27,
   "id": "2657c5b4",
   "metadata": {},
   "outputs": [
    {
     "data": {
      "text/plain": [
       "(A    a\n",
       " B    b\n",
       " C    c\n",
       " D    d\n",
       " E    e\n",
       " Name: s1, dtype: object,\n",
       " Index(['A', 'B', 'C', 'D', 'E'], dtype='object'))"
      ]
     },
     "execution_count": 27,
     "metadata": {},
     "output_type": "execute_result"
    }
   ],
   "source": [
    "\"\"\"\n",
    "c) Based on column s1 of d_1 , view the index information of the data.\n",
    "\"\"\"\n",
    "d_1['s1'], d_1['s1'].index"
   ]
  },
  {
   "cell_type": "code",
   "execution_count": 28,
   "id": "df4983af",
   "metadata": {},
   "outputs": [
    {
     "data": {
      "text/plain": [
       "<bound method DataFrame.info of   s1  s2        s3\n",
       "A  a   1 -0.870561\n",
       "B  b   2  1.160421\n",
       "C  c   3  1.819826\n",
       "D  d   4  0.207307\n",
       "E  e   5  0.031809>"
      ]
     },
     "execution_count": 28,
     "metadata": {},
     "output_type": "execute_result"
    }
   ],
   "source": [
    "\"\"\"\n",
    "d) Use info Function to view the overall information of d_1 :\n",
    "\"\"\"\n",
    "d_1.info"
   ]
  },
  {
   "cell_type": "code",
   "execution_count": null,
   "id": "ab6fde1e",
   "metadata": {},
   "outputs": [
    {
     "data": {
      "text/html": [
       "<div>\n",
       "<style scoped>\n",
       "    .dataframe tbody tr th:only-of-type {\n",
       "        vertical-align: middle;\n",
       "    }\n",
       "\n",
       "    .dataframe tbody tr th {\n",
       "        vertical-align: top;\n",
       "    }\n",
       "\n",
       "    .dataframe thead th {\n",
       "        text-align: right;\n",
       "    }\n",
       "</style>\n",
       "<table border=\"1\" class=\"dataframe\">\n",
       "  <thead>\n",
       "    <tr style=\"text-align: right;\">\n",
       "      <th></th>\n",
       "      <th>s1</th>\n",
       "      <th>s2</th>\n",
       "      <th>s3</th>\n",
       "    </tr>\n",
       "  </thead>\n",
       "  <tbody>\n",
       "    <tr>\n",
       "      <th>C</th>\n",
       "      <td>c</td>\n",
       "      <td>3</td>\n",
       "      <td>0.724222</td>\n",
       "    </tr>\n",
       "    <tr>\n",
       "      <th>E</th>\n",
       "      <td>e</td>\n",
       "      <td>5</td>\n",
       "      <td>-1.039063</td>\n",
       "    </tr>\n",
       "  </tbody>\n",
       "</table>\n",
       "</div>"
      ],
      "text/plain": [
       "  s1  s2        s3\n",
       "C  c   3  0.724222\n",
       "E  e   5 -1.039063"
      ]
     },
     "metadata": {},
     "output_type": "display_data"
    }
   ],
   "source": [
    "# a) Implement row-based data access using d_1 data. Use the loc attribute to access rows with index values in C and E:\n",
    "d_1.loc[['C', 'E']]"
   ]
  },
  {
   "cell_type": "code",
   "execution_count": null,
   "id": "e787b38f",
   "metadata": {},
   "outputs": [
    {
     "data": {
      "text/html": [
       "<div>\n",
       "<style scoped>\n",
       "    .dataframe tbody tr th:only-of-type {\n",
       "        vertical-align: middle;\n",
       "    }\n",
       "\n",
       "    .dataframe tbody tr th {\n",
       "        vertical-align: top;\n",
       "    }\n",
       "\n",
       "    .dataframe thead th {\n",
       "        text-align: right;\n",
       "    }\n",
       "</style>\n",
       "<table border=\"1\" class=\"dataframe\">\n",
       "  <thead>\n",
       "    <tr style=\"text-align: right;\">\n",
       "      <th></th>\n",
       "      <th>s1</th>\n",
       "      <th>s2</th>\n",
       "      <th>s3</th>\n",
       "    </tr>\n",
       "  </thead>\n",
       "  <tbody>\n",
       "    <tr>\n",
       "      <th>B</th>\n",
       "      <td>b</td>\n",
       "      <td>2</td>\n",
       "      <td>-0.307921</td>\n",
       "    </tr>\n",
       "    <tr>\n",
       "      <th>C</th>\n",
       "      <td>c</td>\n",
       "      <td>3</td>\n",
       "      <td>0.724222</td>\n",
       "    </tr>\n",
       "    <tr>\n",
       "      <th>D</th>\n",
       "      <td>d</td>\n",
       "      <td>4</td>\n",
       "      <td>-0.510703</td>\n",
       "    </tr>\n",
       "    <tr>\n",
       "      <th>E</th>\n",
       "      <td>e</td>\n",
       "      <td>5</td>\n",
       "      <td>-1.039063</td>\n",
       "    </tr>\n",
       "  </tbody>\n",
       "</table>\n",
       "</div>"
      ],
      "text/plain": [
       "  s1  s2        s3\n",
       "B  b   2 -0.307921\n",
       "C  c   3  0.724222\n",
       "D  d   4 -0.510703\n",
       "E  e   5 -1.039063"
      ]
     },
     "metadata": {},
     "output_type": "display_data"
    }
   ],
   "source": [
    "# b) Similarly, access all rows starting from index B:\n",
    "d_1.loc['B':]"
   ]
  },
  {
   "cell_type": "code",
   "execution_count": null,
   "id": "76919f29",
   "metadata": {},
   "outputs": [
    {
     "data": {
      "text/html": [
       "<div>\n",
       "<style scoped>\n",
       "    .dataframe tbody tr th:only-of-type {\n",
       "        vertical-align: middle;\n",
       "    }\n",
       "\n",
       "    .dataframe tbody tr th {\n",
       "        vertical-align: top;\n",
       "    }\n",
       "\n",
       "    .dataframe thead th {\n",
       "        text-align: right;\n",
       "    }\n",
       "</style>\n",
       "<table border=\"1\" class=\"dataframe\">\n",
       "  <thead>\n",
       "    <tr style=\"text-align: right;\">\n",
       "      <th></th>\n",
       "      <th>s1</th>\n",
       "      <th>s2</th>\n",
       "      <th>s3</th>\n",
       "    </tr>\n",
       "  </thead>\n",
       "  <tbody>\n",
       "    <tr>\n",
       "      <th>A</th>\n",
       "      <td>a</td>\n",
       "      <td>1</td>\n",
       "      <td>-0.539370</td>\n",
       "    </tr>\n",
       "    <tr>\n",
       "      <th>B</th>\n",
       "      <td>b</td>\n",
       "      <td>2</td>\n",
       "      <td>-0.307921</td>\n",
       "    </tr>\n",
       "    <tr>\n",
       "      <th>C</th>\n",
       "      <td>c</td>\n",
       "      <td>3</td>\n",
       "      <td>0.724222</td>\n",
       "    </tr>\n",
       "    <tr>\n",
       "      <th>D</th>\n",
       "      <td>d</td>\n",
       "      <td>4</td>\n",
       "      <td>-0.510703</td>\n",
       "    </tr>\n",
       "  </tbody>\n",
       "</table>\n",
       "</div>"
      ],
      "text/plain": [
       "  s1  s2        s3\n",
       "A  a   1 -0.539370\n",
       "B  b   2 -0.307921\n",
       "C  c   3  0.724222\n",
       "D  d   4 -0.510703"
      ]
     },
     "metadata": {},
     "output_type": "display_data"
    }
   ],
   "source": [
    "# c) Access all rows starting with index A and ending with D:\n",
    "d_1.loc['A': 'D']"
   ]
  },
  {
   "cell_type": "code",
   "execution_count": null,
   "id": "d7945216",
   "metadata": {},
   "outputs": [
    {
     "data": {
      "text/plain": [
       "s1    b\n",
       "s2    2\n",
       "Name: B, dtype: object"
      ]
     },
     "metadata": {},
     "output_type": "display_data"
    }
   ],
   "source": [
    "# d) Access row index values is B of columns s 1 and s 2 :\n",
    "d_1.loc['B', ['s1', 's2']]"
   ]
  },
  {
   "cell_type": "code",
   "execution_count": null,
   "id": "7a72b551",
   "metadata": {},
   "outputs": [
    {
     "data": {
      "text/html": [
       "<div>\n",
       "<style scoped>\n",
       "    .dataframe tbody tr th:only-of-type {\n",
       "        vertical-align: middle;\n",
       "    }\n",
       "\n",
       "    .dataframe tbody tr th {\n",
       "        vertical-align: top;\n",
       "    }\n",
       "\n",
       "    .dataframe thead th {\n",
       "        text-align: right;\n",
       "    }\n",
       "</style>\n",
       "<table border=\"1\" class=\"dataframe\">\n",
       "  <thead>\n",
       "    <tr style=\"text-align: right;\">\n",
       "      <th></th>\n",
       "      <th>s1</th>\n",
       "      <th>s2</th>\n",
       "    </tr>\n",
       "  </thead>\n",
       "  <tbody>\n",
       "    <tr>\n",
       "      <th>B</th>\n",
       "      <td>b</td>\n",
       "      <td>2</td>\n",
       "    </tr>\n",
       "    <tr>\n",
       "      <th>C</th>\n",
       "      <td>c</td>\n",
       "      <td>3</td>\n",
       "    </tr>\n",
       "    <tr>\n",
       "      <th>D</th>\n",
       "      <td>d</td>\n",
       "      <td>4</td>\n",
       "    </tr>\n",
       "    <tr>\n",
       "      <th>E</th>\n",
       "      <td>e</td>\n",
       "      <td>5</td>\n",
       "    </tr>\n",
       "  </tbody>\n",
       "</table>\n",
       "</div>"
      ],
      "text/plain": [
       "  s1  s2\n",
       "B  b   2\n",
       "C  c   3\n",
       "D  d   4\n",
       "E  e   5"
      ]
     },
     "metadata": {},
     "output_type": "display_data"
    }
   ],
   "source": [
    "# e) Access rows index value starting from B of columns s 1 and s 2 :\n",
    "d_1.loc['B':,['s1', 's2']]"
   ]
  }
 ],
 "metadata": {
  "kernelspec": {
   "display_name": "Python 3",
   "language": "python",
   "name": "python3"
  },
  "language_info": {
   "codemirror_mode": {
    "name": "ipython",
    "version": 3
   },
   "file_extension": ".py",
   "mimetype": "text/x-python",
   "name": "python",
   "nbconvert_exporter": "python",
   "pygments_lexer": "ipython3",
   "version": "3.12.1"
  }
 },
 "nbformat": 4,
 "nbformat_minor": 5
}
