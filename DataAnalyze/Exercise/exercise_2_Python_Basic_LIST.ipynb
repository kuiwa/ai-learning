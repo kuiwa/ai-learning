{
 "cells": [
  {
   "cell_type": "markdown",
   "id": "d39746d1-7219-4a72-aeaa-ec7adfaafe20",
   "metadata": {},
   "source": [
    "# LIST"
   ]
  },
  {
   "cell_type": "code",
   "execution_count": 21,
   "id": "31ba83f4-9180-40a8-8146-04e9e721a5f0",
   "metadata": {},
   "outputs": [
    {
     "name": "stdout",
     "output_type": "stream",
     "text": [
      "['apple', 'banana', 'orange']\n",
      "banana\n",
      "['apple-new', 'banana', 'orange']\n",
      "['banana', 'orange', 'pear']\n"
     ]
    }
   ],
   "source": [
    "# a) Create a list object: fruits, which includes the names of three fruits: apple , banana, orange\n",
    "fruits = ['apple', 'banana', 'orange']\n",
    "# b) Use print output all member’s values of fruit list at once\n",
    "print(fruits)\n",
    "# c) Print the second member value of fruits list\n",
    "print(fruits[1])\n",
    "# d) Update the first member value of fruits list to: apple-new\n",
    "fruits[0] = 'apple-new'\n",
    "# e) Print all member values of fruit list again to confirm that the update is successful.\n",
    "print(fruits)\n",
    "# f) Two new members are added: pear and grape\n",
    "fruits.append('pear')\n",
    "fruits.append('grape')\n",
    "# g) Print 2-4 member values\n",
    "print(fruits[1:4])"
   ]
  }
 ],
 "metadata": {
  "kernelspec": {
   "display_name": "Python 3 (ipykernel)",
   "language": "python",
   "name": "python3"
  },
  "language_info": {
   "codemirror_mode": {
    "name": "ipython",
    "version": 3
   },
   "file_extension": ".py",
   "mimetype": "text/x-python",
   "name": "python",
   "nbconvert_exporter": "python",
   "pygments_lexer": "ipython3",
   "version": "3.8.0"
  }
 },
 "nbformat": 4,
 "nbformat_minor": 5
}
