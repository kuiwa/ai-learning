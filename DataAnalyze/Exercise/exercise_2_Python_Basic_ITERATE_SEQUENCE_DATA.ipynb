{
 "cells": [
  {
   "cell_type": "markdown",
   "id": "b5ac6860-7fec-41d7-9d16-8577ab734a6a",
   "metadata": {},
   "source": [
    "# ITERATE SEQUENCE DATA"
   ]
  },
  {
   "cell_type": "code",
   "execution_count": 53,
   "id": "9f60d28a-6ea4-4846-bdce-150ce63a08e9",
   "metadata": {},
   "outputs": [
    {
     "name": "stdout",
     "output_type": "stream",
     "text": [
      "Here is number 0 object with value apple-new\n",
      "Here is number 1 object with value banana\n",
      "Here is number 2 object with value orange\n",
      "Here is number 3 object with value pear\n",
      "Here is number 4 object with value grape\n",
      "range(1, 6)\n",
      "(1, 'apple-new')\n",
      "(2, 'banana')\n",
      "(3, 'orange')\n",
      "(4, 'pear')\n",
      "(5, 'grape')\n",
      "(1, 'apple-new')\n",
      "(2, 'banana')\n",
      "(3, 'orange')\n",
      "(4, 'pear')\n",
      "(5, 'grape')\n"
     ]
    }
   ],
   "source": [
    "\"\"\"\n",
    "a) Use the for loop and enumerate function to iterate the previously\n",
    "created fruits_tuple_new object, obtain the index position\n",
    "information and corresponding values, and try to print each\n",
    "element sequentially in a format like the following statement:\n",
    "\" Here is number 1 object with value apple-new\"\n",
    "\"\"\"\n",
    "for index, value in enumerate(fruits_tuple_new):\n",
    "    print(\"Here is number %d object with value %s\" % (index, value))\n",
    "\"\"\"\n",
    "b) Create a new list object index_list, in which the value of the\n",
    "member is the position number of the fruits_tuple_new index,\n",
    "starting from 1 and the length is consistent with fruits_tuple_new.\n",
    "\"\"\"\n",
    "index_list = range(1, len(fruits_tuple_new) + 1)\n",
    "print(index_list)\n",
    "\"\"\"\n",
    "c) Use the for loop and zip function to iterate the two objects\n",
    "index_list and fruits_tuple_new at the same time and print their\n",
    "values in pairs.\n",
    "\"\"\"\n",
    "for fruit in zip(index_list, fruits_tuple_new):\n",
    "    print(fruit)\n",
    "\"\"\"\n",
    "d) Use the range function to create an object the same as index_list,\n",
    "named index_range, to achieve the same paired printing as in the\n",
    "previous step.\n",
    "\"\"\"\n",
    "index_range=range(1,6)\n",
    "for fruit in zip(index_range, fruits_tuple_new):\n",
    "    print(fruit)"
   ]
  },
  {
   "cell_type": "markdown",
   "id": "314ef5ff-91d0-44a5-a300-e02d3c2e3b02",
   "metadata": {},
   "source": [
    "# DICTIONARY"
   ]
  },
  {
   "cell_type": "code",
   "execution_count": 73,
   "id": "4eb54765-5c53-4ab0-b369-019e9910983a",
   "metadata": {},
   "outputs": [
    {
     "name": "stdout",
     "output_type": "stream",
     "text": [
      "{'apple-new': 0, 'banana': 1, 'orange': 2, 'pear': 3, 'grape': 4}\n",
      "{'apple-new': 0, 'banana': 1, 'orange': 2, 'pear': 3, 'grape': 4}\n",
      "2\n",
      "dict_keys(['apple-new', 'banana', 'orange', 'pear', 'grape'])\n",
      "apple-new = 0\n",
      "banana = 1\n",
      "orange = 2\n",
      "pear = 3\n",
      "grape = 4\n"
     ]
    }
   ],
   "source": [
    "\"\"\"\n",
    "a) Create a new dict object, fruit_dict, based on the value of the fruits_tuple_new object, \n",
    "where the key is the value of each member of fruits_tuple_new and the value is its position number value in fruits_tuple_new, such as apple-new: 1.\n",
    "You can try to use the zip function to achieve this.\n",
    "\"\"\"\n",
    "fruit_dict = {}\n",
    "for value, key in enumerate(fruits_tuple_new):\n",
    "    fruit_dict[key] = value\n",
    "print(fruit_dict)\n",
    "fruit_dict2 = dict(zip(fruits_tuple_new, range(len(fruits_tuple_new))))\n",
    "print(fruit_dict2)\n",
    "\"\"\"\n",
    "b) Use key to print the value with key orange in fruit_dict.\n",
    "\"\"\"\n",
    "print(fruit_dict['orange'])\n",
    "\"\"\"\n",
    "c) Print fruit_dict all keys information.\n",
    "\"\"\"\n",
    "print(fruit_dict.keys())\n",
    "\"\"\"\n",
    "d) Use for loop to iterate fruit_ dict members’ key and value, print sequentially\n",
    "\"\"\"\n",
    "for key, value in fruit_dict.items():\n",
    "    print(\"%s = %s\" % (key, value))"
   ]
  }
 ],
 "metadata": {
  "kernelspec": {
   "display_name": "Python 3 (ipykernel)",
   "language": "python",
   "name": "python3"
  },
  "language_info": {
   "codemirror_mode": {
    "name": "ipython",
    "version": 3
   },
   "file_extension": ".py",
   "mimetype": "text/x-python",
   "name": "python",
   "nbconvert_exporter": "python",
   "pygments_lexer": "ipython3",
   "version": "3.8.0"
  }
 },
 "nbformat": 4,
 "nbformat_minor": 5
}
