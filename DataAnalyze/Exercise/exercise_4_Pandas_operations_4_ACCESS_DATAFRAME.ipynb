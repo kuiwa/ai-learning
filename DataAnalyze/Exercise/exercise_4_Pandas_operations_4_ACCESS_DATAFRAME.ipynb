{
 "cells": [
  {
   "cell_type": "markdown",
   "id": "ee8aed61-8f01-42b2-9116-71f2a34eafc2",
   "metadata": {},
   "source": [
    "PREPARATION"
   ]
  },
  {
   "cell_type": "code",
   "execution_count": 2,
   "id": "cc148350-ac96-4677-9d4c-8d4c67c139b5",
   "metadata": {},
   "outputs": [],
   "source": [
    "\"\"\"\n",
    "a) Click on JupyterHub File – New – Notebook in the upper left corner\n",
    "of the page button to create a new Notebook Used to save the\n",
    "content of this part of the exercise\n",
    "\"\"\"\n",
    "\n",
    "\"\"\"\n",
    "b) Select Kernel for Python 3\n",
    "\"\"\"\n",
    "\n",
    "\"\"\"\n",
    "c) As in the previous exercise, modify the notebook File name: p\n",
    "andas.ipynb\n",
    "\"\"\"\n",
    "\n",
    "\"\"\"\n",
    "d) Enter the import numpy and pandas statements in the first cell for\n",
    "subsequent exercises, and give them new names np and pd\n",
    "respectively.\n",
    "\"\"\"\n",
    "import numpy as np\n",
    "import pandas as pd"
   ]
  },
  {
   "cell_type": "code",
   "execution_count": 74,
   "id": "7b94ccc7",
   "metadata": {},
   "outputs": [
    {
     "data": {
      "text/plain": [
       "<bound method DataFrame.info of     gender race/ethnicity parental level of education         lunch  \\\n",
       "0     male        group A                 high school      standard   \n",
       "1   female        group D            some high school  free/reduced   \n",
       "2     male        group E                some college  free/reduced   \n",
       "3     male        group B                 high school      standard   \n",
       "4     male        group E          associate's degree      standard   \n",
       "..     ...            ...                         ...           ...   \n",
       "95  female        group C                 high school      standard   \n",
       "96  female        group E          associate's degree      standard   \n",
       "97    male        group B                 high school  free/reduced   \n",
       "98    male        group A                some college      standard   \n",
       "99    male        group B          associate's degree      standard   \n",
       "\n",
       "   test preparation course  math score  reading score  writing score  \n",
       "0                completed          67             67             63  \n",
       "1                     none          40             59             55  \n",
       "2                     none          59             60             50  \n",
       "3                     none          77             78             68  \n",
       "4                completed          78             73             68  \n",
       "..                     ...         ...            ...            ...  \n",
       "95               completed          58             63             67  \n",
       "96               completed          95            100            100  \n",
       "97                    none          45             52             49  \n",
       "98                    none          63             50             49  \n",
       "99                    none          60             54             53  \n",
       "\n",
       "[100 rows x 8 columns]>"
      ]
     },
     "execution_count": 74,
     "metadata": {},
     "output_type": "execute_result"
    }
   ],
   "source": [
    "\"\"\"\n",
    "f) Using the same function to read CSV file, this time add the parameter nrows to set the number of rows to be read, \n",
    "such as 100 , assign it to the new variable d_4 and check whether the result is same as the specified number of rows:\n",
    "\"\"\"\n",
    "d_4 = pd.read_csv('exams.csv', nrows=100)\n",
    "d_4.info"
   ]
  },
  {
   "cell_type": "markdown",
   "id": "5772fef1-928c-4324-a003-4aac467ccac4",
   "metadata": {},
   "source": [
    "# ACCESS DATA DATAFRAME BASED ON COLUMNS"
   ]
  },
  {
   "cell_type": "code",
   "execution_count": 8,
   "id": "bb95c23f",
   "metadata": {},
   "outputs": [
    {
     "data": {
      "text/html": [
       "<div>\n",
       "<style scoped>\n",
       "    .dataframe tbody tr th:only-of-type {\n",
       "        vertical-align: middle;\n",
       "    }\n",
       "\n",
       "    .dataframe tbody tr th {\n",
       "        vertical-align: top;\n",
       "    }\n",
       "\n",
       "    .dataframe thead th {\n",
       "        text-align: right;\n",
       "    }\n",
       "</style>\n",
       "<table border=\"1\" class=\"dataframe\">\n",
       "  <thead>\n",
       "    <tr style=\"text-align: right;\">\n",
       "      <th></th>\n",
       "      <th>gender</th>\n",
       "      <th>race/ethnicity</th>\n",
       "      <th>math score</th>\n",
       "    </tr>\n",
       "  </thead>\n",
       "  <tbody>\n",
       "    <tr>\n",
       "      <th>0</th>\n",
       "      <td>male</td>\n",
       "      <td>group A</td>\n",
       "      <td>67</td>\n",
       "    </tr>\n",
       "    <tr>\n",
       "      <th>1</th>\n",
       "      <td>female</td>\n",
       "      <td>group D</td>\n",
       "      <td>40</td>\n",
       "    </tr>\n",
       "    <tr>\n",
       "      <th>2</th>\n",
       "      <td>male</td>\n",
       "      <td>group E</td>\n",
       "      <td>59</td>\n",
       "    </tr>\n",
       "    <tr>\n",
       "      <th>3</th>\n",
       "      <td>male</td>\n",
       "      <td>group B</td>\n",
       "      <td>77</td>\n",
       "    </tr>\n",
       "    <tr>\n",
       "      <th>4</th>\n",
       "      <td>male</td>\n",
       "      <td>group E</td>\n",
       "      <td>78</td>\n",
       "    </tr>\n",
       "  </tbody>\n",
       "</table>\n",
       "</div>"
      ],
      "text/plain": [
       "   gender race/ethnicity  math score\n",
       "0    male        group A          67\n",
       "1  female        group D          40\n",
       "2    male        group E          59\n",
       "3    male        group B          77\n",
       "4    male        group E          78"
      ]
     },
     "execution_count": 8,
     "metadata": {},
     "output_type": "execute_result"
    }
   ],
   "source": [
    "\"\"\"\n",
    "a) Utilize d_4 data to implement column-based data access. \n",
    "First, realize the simultaneous display of information from the three\n",
    "columns \" gender \", \" race/ethnicity \" and \" math score \".\n",
    "\"\"\"\n",
    "d_4[['gender', 'race/ethnicity', 'math score']].head()"
   ]
  },
  {
   "cell_type": "code",
   "execution_count": 9,
   "id": "c2e516ff",
   "metadata": {},
   "outputs": [
    {
     "data": {
      "text/plain": [
       "0    65.666667\n",
       "1    51.333333\n",
       "2    56.333333\n",
       "3    74.333333\n",
       "4    73.000000\n",
       "Name: avg_score, dtype: float64"
      ]
     },
     "execution_count": 9,
     "metadata": {},
     "output_type": "execute_result"
    }
   ],
   "source": [
    "\"\"\"\n",
    "b) Create a new column for d_4: avg_score, with the value being the\n",
    "average of the three score column values:\n",
    "\"\"\"\n",
    "d_4['avg_score'] = (d_4['math score'] + d_4['reading score'] + d_4['writing score']) / 3\n",
    "d_4['avg_score'].head()"
   ]
  },
  {
   "cell_type": "code",
   "execution_count": 10,
   "id": "97b7b638",
   "metadata": {},
   "outputs": [
    {
     "data": {
      "text/plain": [
       "gender                         65\n",
       "race/ethnicity                 65\n",
       "parental level of education    65\n",
       "lunch                          65\n",
       "test preparation course        65\n",
       "math score                     65\n",
       "reading score                  65\n",
       "writing score                  65\n",
       "avg_score                      65\n",
       "dtype: int64"
      ]
     },
     "execution_count": 10,
     "metadata": {},
     "output_type": "execute_result"
    }
   ],
   "source": [
    "\"\"\"\n",
    "c) Use the sum method to count the number of avg_score values greater than 60, and the output value is 65\n",
    "\"\"\"\n",
    "d_4[d_4['avg_score'] > 60].count()"
   ]
  },
  {
   "cell_type": "code",
   "execution_count": 11,
   "id": "efb3ac1f",
   "metadata": {},
   "outputs": [
    {
     "data": {
      "text/plain": [
       "0       male\n",
       "3       male\n",
       "4       male\n",
       "5     female\n",
       "6     female\n",
       "       ...  \n",
       "92    female\n",
       "93      male\n",
       "94      male\n",
       "95    female\n",
       "96    female\n",
       "Name: gender, Length: 65, dtype: object"
      ]
     },
     "execution_count": 11,
     "metadata": {},
     "output_type": "execute_result"
    }
   ],
   "source": [
    "# d) Use a similar method to find the gender information of records with avg_score value greater than 60 :\n",
    "d_4[d_4['avg_score'] > 60]['gender']"
   ]
  },
  {
   "cell_type": "code",
   "execution_count": 12,
   "id": "1f30ea45",
   "metadata": {},
   "outputs": [
    {
     "name": "stdout",
     "output_type": "stream",
     "text": [
      "<class 'pandas.core.frame.DataFrame'>\n",
      "RangeIndex: 100 entries, 0 to 99\n",
      "Data columns (total 9 columns):\n",
      " #   Column                       Non-Null Count  Dtype  \n",
      "---  ------                       --------------  -----  \n",
      " 0   gender                       100 non-null    object \n",
      " 1   race/ethnicity               100 non-null    object \n",
      " 2   parental level of education  100 non-null    object \n",
      " 3   lunch                        100 non-null    object \n",
      " 4   test preparation course      100 non-null    object \n",
      " 5   math score                   100 non-null    int64  \n",
      " 6   reading score                100 non-null    int64  \n",
      " 7   writing score                100 non-null    int64  \n",
      " 8   avg_score                    100 non-null    float64\n",
      "dtypes: float64(1), int64(3), object(5)\n",
      "memory usage: 7.2+ KB\n",
      "<class 'pandas.core.frame.DataFrame'>\n",
      "RangeIndex: 100 entries, 0 to 99\n",
      "Data columns (total 8 columns):\n",
      " #   Column                       Non-Null Count  Dtype \n",
      "---  ------                       --------------  ----- \n",
      " 0   gender                       100 non-null    object\n",
      " 1   race/ethnicity               100 non-null    object\n",
      " 2   parental level of education  100 non-null    object\n",
      " 3   lunch                        100 non-null    object\n",
      " 4   test preparation course      100 non-null    object\n",
      " 5   math score                   100 non-null    int64 \n",
      " 6   reading score                100 non-null    int64 \n",
      " 7   writing score                100 non-null    int64 \n",
      "dtypes: int64(3), object(5)\n",
      "memory usage: 6.4+ KB\n"
     ]
    }
   ],
   "source": [
    "# e) Use the drop function to delete the avg_score column, restore d_4 to its original state:\n",
    "d_4.info()\n",
    "d_4 = d_4.drop('avg_score', axis=1)\n",
    "d_4.info()"
   ]
  }
 ],
 "metadata": {
  "kernelspec": {
   "display_name": "Python 3",
   "language": "python",
   "name": "python3"
  },
  "language_info": {
   "codemirror_mode": {
    "name": "ipython",
    "version": 3
   },
   "file_extension": ".py",
   "mimetype": "text/x-python",
   "name": "python",
   "nbconvert_exporter": "python",
   "pygments_lexer": "ipython3",
   "version": "3.12.1"
  }
 },
 "nbformat": 4,
 "nbformat_minor": 5
}
