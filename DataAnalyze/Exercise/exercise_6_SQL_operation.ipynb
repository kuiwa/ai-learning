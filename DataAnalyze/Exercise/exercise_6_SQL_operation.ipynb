{
 "cells": [
  {
   "cell_type": "markdown",
   "metadata": {},
   "source": [
    "# PREPARATION"
   ]
  },
  {
   "cell_type": "code",
   "execution_count": 1,
   "metadata": {},
   "outputs": [],
   "source": [
    "# a) SQL for this section Related exercises, continue using Jupyter Notebook To be done.\n",
    "# b) Click on JupyterHub File – New – Notebook in the upper left corner of the page button to create a new Notebook Used to save the\n",
    "# content of this part of the exercise\n",
    "# c) Select Kernel for Python 3\n",
    "# d) As in the previous exercise, modify the notebook File name :\n",
    "# sql.ipynb\n",
    "# Enter the following content to introduce the libraries required for subsequent exercises\n",
    "import pandas as pd\n",
    "import numpy as np\n",
    "from sqlalchemy import create_engine\n",
    "from sqlalchemy import text"
   ]
  }
 ],
 "metadata": {
  "kernelspec": {
   "display_name": "Python 3",
   "language": "python",
   "name": "python3"
  },
  "language_info": {
   "codemirror_mode": {
    "name": "ipython",
    "version": 3
   },
   "file_extension": ".py",
   "mimetype": "text/x-python",
   "name": "python",
   "nbconvert_exporter": "python",
   "pygments_lexer": "ipython3",
   "version": "3.12.1"
  }
 },
 "nbformat": 4,
 "nbformat_minor": 2
}
