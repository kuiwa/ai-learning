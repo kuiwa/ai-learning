{
 "cells": [
  {
   "cell_type": "markdown",
   "id": "314ef5ff-91d0-44a5-a300-e02d3c2e3b02",
   "metadata": {},
   "source": [
    "# DICTIONARY"
   ]
  },
  {
   "cell_type": "code",
   "execution_count": 73,
   "id": "4eb54765-5c53-4ab0-b369-019e9910983a",
   "metadata": {},
   "outputs": [
    {
     "name": "stdout",
     "output_type": "stream",
     "text": [
      "{'apple-new': 0, 'banana': 1, 'orange': 2, 'pear': 3, 'grape': 4}\n",
      "{'apple-new': 0, 'banana': 1, 'orange': 2, 'pear': 3, 'grape': 4}\n",
      "2\n",
      "dict_keys(['apple-new', 'banana', 'orange', 'pear', 'grape'])\n",
      "apple-new = 0\n",
      "banana = 1\n",
      "orange = 2\n",
      "pear = 3\n",
      "grape = 4\n"
     ]
    }
   ],
   "source": [
    "\"\"\"\n",
    "a) Create a new dict object, fruit_dict, based on the value of the fruits_tuple_new object, \n",
    "where the key is the value of each member of fruits_tuple_new and the value is its position number value in fruits_tuple_new, such as apple-new: 1.\n",
    "You can try to use the zip function to achieve this.\n",
    "\"\"\"\n",
    "fruit_dict = {}\n",
    "for value, key in enumerate(fruits_tuple_new):\n",
    "    fruit_dict[key] = value\n",
    "print(fruit_dict)\n",
    "fruit_dict2 = dict(zip(fruits_tuple_new, range(len(fruits_tuple_new))))\n",
    "print(fruit_dict2)\n",
    "\"\"\"\n",
    "b) Use key to print the value with key orange in fruit_dict.\n",
    "\"\"\"\n",
    "print(fruit_dict['orange'])\n",
    "\"\"\"\n",
    "c) Print fruit_dict all keys information.\n",
    "\"\"\"\n",
    "print(fruit_dict.keys())\n",
    "\"\"\"\n",
    "d) Use for loop to iterate fruit_ dict members’ key and value, print sequentially\n",
    "\"\"\"\n",
    "for key, value in fruit_dict.items():\n",
    "    print(\"%s = %s\" % (key, value))"
   ]
  }
 ],
 "metadata": {
  "kernelspec": {
   "display_name": "Python 3 (ipykernel)",
   "language": "python",
   "name": "python3"
  },
  "language_info": {
   "codemirror_mode": {
    "name": "ipython",
    "version": 3
   },
   "file_extension": ".py",
   "mimetype": "text/x-python",
   "name": "python",
   "nbconvert_exporter": "python",
   "pygments_lexer": "ipython3",
   "version": "3.8.0"
  }
 },
 "nbformat": 4,
 "nbformat_minor": 5
}
