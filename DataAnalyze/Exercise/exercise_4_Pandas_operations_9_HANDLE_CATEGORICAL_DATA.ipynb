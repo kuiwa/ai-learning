{
 "cells": [
  {
   "cell_type": "markdown",
   "id": "ee8aed61-8f01-42b2-9116-71f2a34eafc2",
   "metadata": {},
   "source": [
    "PREPARATION"
   ]
  },
  {
   "cell_type": "code",
   "execution_count": 15,
   "id": "cc148350-ac96-4677-9d4c-8d4c67c139b5",
   "metadata": {},
   "outputs": [],
   "source": [
    "\"\"\"\n",
    "a) Click on JupyterHub File – New – Notebook in the upper left corner\n",
    "of the page button to create a new Notebook Used to save the\n",
    "content of this part of the exercise\n",
    "\"\"\"\n",
    "\n",
    "\"\"\"\n",
    "b) Select Kernel for Python 3\n",
    "\"\"\"\n",
    "\n",
    "\"\"\"\n",
    "c) As in the previous exercise, modify the notebook File name: p\n",
    "andas.ipynb\n",
    "\"\"\"\n",
    "\n",
    "\"\"\"\n",
    "d) Enter the import numpy and pandas statements in the first cell for\n",
    "subsequent exercises, and give them new names np and pd\n",
    "respectively.\n",
    "\"\"\"\n",
    "import numpy as np\n",
    "import pandas as pd"
   ]
  },
  {
   "cell_type": "markdown",
   "id": "cc7e7dcf",
   "metadata": {},
   "source": [
    "# HANDLE CATEGORICAL DATA"
   ]
  },
  {
   "cell_type": "code",
   "execution_count": 16,
   "id": "588704e8",
   "metadata": {},
   "outputs": [
    {
     "name": "stdout",
     "output_type": "stream",
     "text": [
      "<class 'pandas.core.frame.DataFrame'>\n",
      "RangeIndex: 1000 entries, 0 to 999\n",
      "Data columns (total 9 columns):\n",
      " #   Column                       Non-Null Count  Dtype \n",
      "---  ------                       --------------  ----- \n",
      " 0   gender                       1000 non-null   object\n",
      " 1   race/ethnicity               1000 non-null   object\n",
      " 2   parental level of education  1000 non-null   object\n",
      " 3   lunch                        1000 non-null   object\n",
      " 4   test preparation course      1000 non-null   object\n",
      " 5   math score                   1000 non-null   int64 \n",
      " 6   reading score                1000 non-null   int64 \n",
      " 7   writing score                1000 non-null   int64 \n",
      " 8   group_cate                   1000 non-null   object\n",
      "dtypes: int64(3), object(6)\n",
      "memory usage: 70.4+ KB\n"
     ]
    },
    {
     "data": {
      "text/plain": [
       "(None,\n",
       " 0    group A\n",
       " 1    group D\n",
       " 2    group E\n",
       " 3    group B\n",
       " 4    group E\n",
       " Name: group_cate, dtype: object)"
      ]
     },
     "execution_count": 16,
     "metadata": {},
     "output_type": "execute_result"
    }
   ],
   "source": [
    "# a) This part will based on d_3 data . Create a new column named group_cate , and the data comes from the race/ethnicity column.\n",
    "d_3 = pd.read_csv('exams.csv')\n",
    "d_3['group_cate'] = d_3['race/ethnicity']\n",
    "d_3.info(), d_3['group_cate'].head()"
   ]
  },
  {
   "cell_type": "code",
   "execution_count": 18,
   "id": "3144237b",
   "metadata": {},
   "outputs": [
    {
     "name": "stdout",
     "output_type": "stream",
     "text": [
      "<class 'pandas.core.frame.DataFrame'>\n",
      "RangeIndex: 1000 entries, 0 to 999\n",
      "Data columns (total 9 columns):\n",
      " #   Column                       Non-Null Count  Dtype   \n",
      "---  ------                       --------------  -----   \n",
      " 0   gender                       1000 non-null   object  \n",
      " 1   race/ethnicity               1000 non-null   object  \n",
      " 2   parental level of education  1000 non-null   object  \n",
      " 3   lunch                        1000 non-null   object  \n",
      " 4   test preparation course      1000 non-null   object  \n",
      " 5   math score                   1000 non-null   int64   \n",
      " 6   reading score                1000 non-null   int64   \n",
      " 7   writing score                1000 non-null   int64   \n",
      " 8   group_cate                   1000 non-null   category\n",
      "dtypes: category(1), int64(3), object(5)\n",
      "memory usage: 63.8+ KB\n"
     ]
    },
    {
     "data": {
      "text/plain": [
       "(None,\n",
       " 0    group A\n",
       " 1    group D\n",
       " 2    group E\n",
       " 3    group B\n",
       " 4    group E\n",
       " Name: group_cate, dtype: category\n",
       " Categories (5, object): ['group A', 'group B', 'group C', 'group D', 'group E'])"
      ]
     },
     "execution_count": 18,
     "metadata": {},
     "output_type": "execute_result"
    }
   ],
   "source": [
    "# b) Based on new group_cate , first use astype function changes its type to \"category\"\n",
    "d_3['group_cate'] = d_3['group_cate'].astype(\"category\")\n",
    "d_3.info(), d_3['group_cate'].head()"
   ]
  },
  {
   "cell_type": "code",
   "execution_count": 20,
   "id": "d7c60a26",
   "metadata": {},
   "outputs": [
    {
     "data": {
      "text/plain": [
       "count        1000\n",
       "unique          5\n",
       "top       group C\n",
       "freq          323\n",
       "Name: group_cate, dtype: object"
      ]
     },
     "execution_count": 20,
     "metadata": {},
     "output_type": "execute_result"
    }
   ],
   "source": [
    "# c) The categorical information is automatically recognized and created . \n",
    "# At this time, you can try to execute the describe method on the new column to compare the output with the numerical data:\n",
    "d_3['group_cate'].describe()"
   ]
  },
  {
   "cell_type": "code",
   "execution_count": 27,
   "id": "5861441e",
   "metadata": {},
   "outputs": [
    {
     "name": "stdout",
     "output_type": "stream",
     "text": [
      "group A\n",
      "group B\n",
      "group C\n",
      "group D\n",
      "group E\n"
     ]
    }
   ],
   "source": [
    "# d) Categorical data can generally be understood as a column in a DataFrame, \n",
    "# which will automatically obtain two attribute objects: cat.categories and cat.ordered (cat. will be omitted later). \n",
    "# Among them, the categories information is the category group information, that is, how many categories this category data has. \n",
    "# You can try to use a for loop to iterate it and sequentially print the categories information of the group_cate just created.:\n",
    "for group in d_3['group_cate'].cat.categories:\n",
    "    print(group)"
   ]
  },
  {
   "cell_type": "code",
   "execution_count": 29,
   "id": "59ab85e9",
   "metadata": {},
   "outputs": [
    {
     "data": {
      "text/plain": [
       "0      group A\n",
       "1      group D\n",
       "2      group E\n",
       "3      group B\n",
       "4      group E\n",
       "        ...   \n",
       "995    group C\n",
       "996    group D\n",
       "997    group C\n",
       "998    group C\n",
       "999    group A\n",
       "Name: group_cate, Length: 1000, dtype: category\n",
       "Categories (5, object): ['group A' < 'group B' < 'group C' < 'group D' < 'group E']"
      ]
     },
     "execution_count": 29,
     "metadata": {},
     "output_type": "execute_result"
    }
   ],
   "source": [
    "# e) If order of categorical is important, the definition order of categories and ordered can be used to express the order relationship of categories.\n",
    "# For example, the previous group A-E is a primary to advanced categories, \n",
    "# then it is understandable that students in Group E will perform better than students in Group A. \n",
    "# By default, ordered is False and cannot be modified. The data when ordered is True can be obtained through the cat.as_ordered method:\n",
    "d_3['group_cate'].cat.as_ordered()"
   ]
  },
  {
   "cell_type": "code",
   "execution_count": 30,
   "id": "d40b0ddc",
   "metadata": {},
   "outputs": [
    {
     "data": {
      "text/plain": [
       "0      group A\n",
       "1      group D\n",
       "2      group E\n",
       "3      group B\n",
       "4      group E\n",
       "        ...   \n",
       "995    group C\n",
       "996    group D\n",
       "997    group C\n",
       "998    group C\n",
       "999    group A\n",
       "Name: group_cate, Length: 1000, dtype: category\n",
       "Categories (5, object): ['group A', 'group B', 'group C', 'group D', 'group E']"
      ]
     },
     "execution_count": 30,
     "metadata": {},
     "output_type": "execute_result"
    }
   ],
   "source": [
    "# f) On the contrary, if it is sorted categorical data, use cat. as_unordered function can get Data when ordered is False.\n",
    "d_3['group_cate'].cat.as_unordered()"
   ]
  },
  {
   "cell_type": "code",
   "execution_count": 33,
   "id": "1d2863fe",
   "metadata": {},
   "outputs": [
    {
     "data": {
      "text/plain": [
       "0      group A\n",
       "369    group A\n",
       "376    group A\n",
       "388    group A\n",
       "399    group A\n",
       "        ...   \n",
       "752    group E\n",
       "777    group E\n",
       "783    group E\n",
       "273    group E\n",
       "536    group E\n",
       "Name: group_cate, Length: 1000, dtype: category\n",
       "Categories (5, object): ['group A' < 'group B' < 'group C' < 'group D' < 'group E']"
      ]
     },
     "execution_count": 33,
     "metadata": {},
     "output_type": "execute_result"
    }
   ],
   "source": [
    "# g) The main uses of sequential categorical data are: sorting and comparison. \n",
    "# First, assign the group_cate column data with order to s_group_cate and then use the sort_values method to sort it to see \n",
    "# if the output is arranged in the preset order.:\n",
    "s_group_cate = d_3['group_cate'].cat.as_ordered()\n",
    "s_group_cate.sort_values()"
   ]
  },
  {
   "cell_type": "code",
   "execution_count": 36,
   "id": "3c1d5969",
   "metadata": {},
   "outputs": [
    {
     "data": {
      "text/plain": [
       "0      group B\n",
       "369    group B\n",
       "376    group B\n",
       "388    group B\n",
       "399    group B\n",
       "        ...   \n",
       "752    group D\n",
       "777    group D\n",
       "783    group D\n",
       "273    group D\n",
       "536    group D\n",
       "Name: group_cate, Length: 1000, dtype: category\n",
       "Categories (5, object): ['group B' < 'group C' < 'group A' < 'group E' < 'group D']"
      ]
     },
     "execution_count": 36,
     "metadata": {},
     "output_type": "execute_result"
    }
   ],
   "source": [
    "# h) At this time, use the cat.rename_categories method to adjust the category name to: 'group B' < 'group C' < 'group A' < 'group E' < 'group D', \n",
    "# and then check whether the result after sort_values follows changes due to sequence adjustment:\n",
    "s_group_cate.cat.rename_categories(['group B', 'group C', 'group A', 'group E', 'group D']).sort_values()"
   ]
  },
  {
   "cell_type": "code",
   "execution_count": 40,
   "id": "e7645a3b",
   "metadata": {},
   "outputs": [
    {
     "data": {
      "text/plain": [
       "(0      group A\n",
       " 1      group D\n",
       " 2      group E\n",
       " 3      group B\n",
       " 4      group E\n",
       "         ...   \n",
       " 995    group C\n",
       " 996    group D\n",
       " 997    group C\n",
       " 998    group C\n",
       " 999    group A\n",
       " Name: group_cate, Length: 1000, dtype: category\n",
       " Categories (5, object): ['group A' < 'group B' < 'group C' < 'group D' < 'group E'],\n",
       " True,\n",
       " True)"
      ]
     },
     "execution_count": 40,
     "metadata": {},
     "output_type": "execute_result"
    }
   ],
   "source": [
    "# i) It can be seen that rename_categories only changes the original category group name, \n",
    "# but the actual sorting does not change (can be determined according to the index serial number). \n",
    "# Experience the sorting and look at the comparison results. \n",
    "# Currently group_cate is still in the order of Group A to D, then the elements belonging to Group D should be about the same as the elements of Group A:\n",
    "s_group_cate, s_group_cate[0] < s_group_cate[1], s_group_cate[1] < s_group_cate[2]"
   ]
  },
  {
   "cell_type": "code",
   "execution_count": 49,
   "id": "82e198c1",
   "metadata": {},
   "outputs": [
    {
     "data": {
      "text/plain": [
       "(0          NaN\n",
       " 1      group D\n",
       " 2      group E\n",
       " 3      group B\n",
       " 4      group E\n",
       "         ...   \n",
       " 995    group C\n",
       " 996    group D\n",
       " 997    group C\n",
       " 998    group C\n",
       " 999        NaN\n",
       " Name: group_cate, Length: 1000, dtype: category\n",
       " Categories (4, object): ['group B' < 'group C' < 'group D' < 'group E'],\n",
       " 0      group A\n",
       " 1      group D\n",
       " 2      group E\n",
       " 3      group B\n",
       " 4      group E\n",
       "         ...   \n",
       " 995    group C\n",
       " 996    group D\n",
       " 997    group C\n",
       " 998    group C\n",
       " 999    group A\n",
       " Name: group_cate, Length: 1000, dtype: category\n",
       " Categories (6, object): ['group A' < 'group B' < 'group C' < 'group D' < 'group E' < 'group F'])"
      ]
     },
     "execution_count": 49,
     "metadata": {},
     "output_type": "execute_result"
    }
   ],
   "source": [
    "# j) As data increases or decreases, new category types may appear, such as Group F, etc.; or disappearing classification types need to be deleted. \n",
    "# Category types can be added and deleted respectively through the add_categories and remove_categories methods (without directly modifying the original data). \n",
    "# Note: The new category key cannot be the same as the existing key.\n",
    "s_group_cate.cat.remove_categories('group A'), s_group_cate.cat.add_categories(\"group F\")"
   ]
  },
  {
   "cell_type": "code",
   "execution_count": 50,
   "id": "b7415552",
   "metadata": {},
   "outputs": [
    {
     "data": {
      "text/plain": [
       "group_cate\n",
       "group C    323\n",
       "group D    262\n",
       "group B    205\n",
       "group E    131\n",
       "group A     79\n",
       "Name: count, dtype: int64"
      ]
     },
     "execution_count": 50,
     "metadata": {},
     "output_type": "execute_result"
    }
   ],
   "source": [
    "# k) Group statistics based on categorical data are more convenient, and the method of use has not changed. \n",
    "# Based on the value_counts method, the number of grouped data can be quickly counted:\n",
    "s_group_cate.value_counts()"
   ]
  }
 ],
 "metadata": {
  "kernelspec": {
   "display_name": "Python 3",
   "language": "python",
   "name": "python3"
  },
  "language_info": {
   "codemirror_mode": {
    "name": "ipython",
    "version": 3
   },
   "file_extension": ".py",
   "mimetype": "text/x-python",
   "name": "python",
   "nbconvert_exporter": "python",
   "pygments_lexer": "ipython3",
   "version": "3.12.1"
  }
 },
 "nbformat": 4,
 "nbformat_minor": 5
}
