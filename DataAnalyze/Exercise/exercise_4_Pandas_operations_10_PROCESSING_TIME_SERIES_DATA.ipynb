{
 "cells": [
  {
   "cell_type": "markdown",
   "id": "ee8aed61-8f01-42b2-9116-71f2a34eafc2",
   "metadata": {},
   "source": [
    "PREPARATION"
   ]
  },
  {
   "cell_type": "code",
   "execution_count": 1,
   "id": "cc148350-ac96-4677-9d4c-8d4c67c139b5",
   "metadata": {},
   "outputs": [],
   "source": [
    "\"\"\"\n",
    "a) Click on JupyterHub File – New – Notebook in the upper left corner\n",
    "of the page button to create a new Notebook Used to save the\n",
    "content of this part of the exercise\n",
    "\"\"\"\n",
    "\n",
    "\"\"\"\n",
    "b) Select Kernel for Python 3\n",
    "\"\"\"\n",
    "\n",
    "\"\"\"\n",
    "c) As in the previous exercise, modify the notebook File name: p\n",
    "andas.ipynb\n",
    "\"\"\"\n",
    "\n",
    "\"\"\"\n",
    "d) Enter the import numpy and pandas statements in the first cell for\n",
    "subsequent exercises, and give them new names np and pd\n",
    "respectively.\n",
    "\"\"\"\n",
    "import numpy as np\n",
    "import pandas as pd"
   ]
  },
  {
   "cell_type": "markdown",
   "id": "cc7e7dcf",
   "metadata": {},
   "source": [
    "# PROCESSING TIME SERIES DATA"
   ]
  },
  {
   "cell_type": "code",
   "execution_count": 12,
   "id": "bb98fe5e",
   "metadata": {},
   "outputs": [
    {
     "name": "stdout",
     "output_type": "stream",
     "text": [
      "<class 'pandas.core.series.Series'>\n",
      "RangeIndex: 100 entries, 0 to 99\n",
      "Series name: None\n",
      "Non-Null Count  Dtype         \n",
      "--------------  -----         \n",
      "100 non-null    datetime64[ns]\n",
      "dtypes: datetime64[ns](1)\n",
      "memory usage: 932.0 bytes\n"
     ]
    },
    {
     "data": {
      "text/plain": [
       "(None,\n",
       " 29   2023-01-30\n",
       " 30   2023-01-31\n",
       " 31   2023-02-01\n",
       " 32   2023-02-02\n",
       " dtype: datetime64[ns],\n",
       " 57   2023-02-27\n",
       " 58   2023-02-28\n",
       " 59   2023-03-01\n",
       " 60   2023-03-02\n",
       " dtype: datetime64[ns])"
      ]
     },
     "execution_count": 12,
     "metadata": {},
     "output_type": "execute_result"
    }
   ],
   "source": [
    "# a) First, use the pd.date_range method to create a time series data, s_date_1, \n",
    "# with a start date of 2023-1-1, a frequency (freq) of day (D), and a time span (period) of 100. \n",
    "# Check out its basic information below and confirm that it is separated by actual month lengths.\n",
    "s_date_1 = pd.Series(pd.date_range(start='2023-1-1', freq='D', periods=100))\n",
    "s_date_1.info(), s_date_1[29:33], s_date_1[57:61]"
   ]
  },
  {
   "cell_type": "code",
   "execution_count": 20,
   "id": "7c077450",
   "metadata": {},
   "outputs": [
    {
     "data": {
      "text/plain": [
       "Period('2023-01-02', 'D')"
      ]
     },
     "execution_count": 20,
     "metadata": {},
     "output_type": "execute_result"
    }
   ],
   "source": [
    "# b) Using pd.Period function creates a time span (Period) object s_date_2 with a start date of 2023-1-1 and a frequency ( freq ) of day (D) . \n",
    "# Try to implement an addition operation on it to increase the date:\n",
    "s_date_2 = pd.Period('2023-1-1', freq='D')\n",
    "s_date_2 + 1"
   ]
  },
  {
   "cell_type": "code",
   "execution_count": 22,
   "id": "2d7fc4b7",
   "metadata": {},
   "outputs": [
    {
     "data": {
      "text/plain": [
       "<181 * Days>"
      ]
     },
     "execution_count": 22,
     "metadata": {},
     "output_type": "execute_result"
    }
   ],
   "source": [
    "# c) Using this operation, you can easily calculate the difference between two time spans, \n",
    "# such as creating a new Period with a start date of 2023-7-1 s _date_3 , try to calculate the difference between it and 2023-1-1 : 181 days\n",
    "s_date_3 = pd.Period('2023-7-1')\n",
    "s_date_3 - s_date_2"
   ]
  },
  {
   "cell_type": "code",
   "execution_count": 34,
   "id": "23c40310",
   "metadata": {},
   "outputs": [
    {
     "data": {
      "text/plain": [
       "51"
      ]
     },
     "execution_count": 34,
     "metadata": {},
     "output_type": "execute_result"
    },
    {
     "ename": "",
     "evalue": "",
     "output_type": "error",
     "traceback": [
      "\u001b[1;31mThe Kernel crashed while executing code in the current cell or a previous cell. \n",
      "\u001b[1;31mPlease review the code in the cell(s) to identify a possible cause of the failure. \n",
      "\u001b[1;31mClick <a href='https://aka.ms/vscodeJupyterKernelCrash'>here</a> for more info. \n",
      "\u001b[1;31mView Jupyter <a href='command:jupyter.viewOutput'>log</a> for further details."
     ]
    }
   ],
   "source": [
    "# d) Timestamp or time span objects have many practical attributes, such as dayofweek which indicates the day of the week (starting from 0). \n",
    "# So try to calculate how many weekends there are between s_date_2 and s_date_3 ?\n",
    "weekends = 0\n",
    "for day in range(pd.Timedelta(s_date_3 - s_date_2).days):\n",
    "    if ((s_date_2 + day).dayofweek >= 5):\n",
    "        weekends += 1\n",
    "weekends\n",
    "# (s_date_3 - s_date_2).day_of_week()"
   ]
  }
 ],
 "metadata": {
  "kernelspec": {
   "display_name": "Python 3",
   "language": "python",
   "name": "python3"
  },
  "language_info": {
   "codemirror_mode": {
    "name": "ipython",
    "version": 3
   },
   "file_extension": ".py",
   "mimetype": "text/x-python",
   "name": "python",
   "nbconvert_exporter": "python",
   "pygments_lexer": "ipython3",
   "version": "3.12.1"
  }
 },
 "nbformat": 4,
 "nbformat_minor": 5
}
